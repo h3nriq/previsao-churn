{
 "cells": [
  {
   "cell_type": "markdown",
   "id": "6a766c5c-b980-44c3-9098-64a8c07a0603",
   "metadata": {},
   "source": [
    "## Carregar Dados"
   ]
  },
  {
   "cell_type": "code",
   "execution_count": null,
   "id": "aca3fc76",
   "metadata": {},
   "outputs": [],
   "source": [
    "# Carregar Bibliotecas\n",
    "import pandas as pd\n",
    "import numpy as np\n",
    "\n",
    "# Bibliotecas de vizualização\n",
    "import plotly.express as px\n",
    "import matplotlib.pyplot as plt\n",
    "import seaborn as sns\n",
    "\n",
    "# Bibliotecas de modelagem\n",
    "from sklearn.model_selection import train_test_split, StratifiedKFold\n",
    "from xgboost import XGBClassifier\n",
    "from lightgbm import LGBMClassifier\n",
    "from catboost import CatBoostClassifier\n",
    "from sklearn.linear_model import LogisticRegression\n",
    "from sklearn.metrics import precision_score, recall_score, precision_recall_curve, auc, roc_auc_score, f1_score, accuracy_score\n",
    "from category_encoders import CatBoostEncoder\n",
    "from sklearn.impute import SimpleImputer\n",
    "from sklearn.pipeline import Pipeline\n",
    "import optuna as opt\n",
    "\n",
    "# Configurar Warnings\n",
    "from warnings import filterwarnings\n",
    "filterwarnings('ignore')"
   ]
  },
  {
   "cell_type": "code",
   "execution_count": 3,
   "id": "6cf1adf3",
   "metadata": {},
   "outputs": [],
   "source": [
    "# Importar Dados\n",
    "# Dados https://www.kaggle.com/datasets/olistbr/brazilian-ecommerce\n",
    "\n",
    "customers = pd.read_csv(\"../Data/olist_customers_dataset.csv\")\n",
    "orders = pd.read_csv(\"../Data/olist_orders_dataset.csv\")\n",
    "order_items = pd.read_csv(\"../Data/olist_order_items_dataset.csv\")"
   ]
  },
  {
   "cell_type": "markdown",
   "id": "91ea551f-4125-470f-8a57-15eba285fb57",
   "metadata": {},
   "source": [
    "## EDA"
   ]
  },
  {
   "cell_type": "code",
   "execution_count": 4,
   "id": "f4af7265",
   "metadata": {},
   "outputs": [
    {
     "name": "stdout",
     "output_type": "stream",
     "text": [
      "<class 'pandas.core.frame.DataFrame'>\n",
      "RangeIndex: 99441 entries, 0 to 99440\n",
      "Data columns (total 5 columns):\n",
      " #   Column                    Non-Null Count  Dtype \n",
      "---  ------                    --------------  ----- \n",
      " 0   customer_id               99441 non-null  object\n",
      " 1   customer_unique_id        99441 non-null  object\n",
      " 2   customer_zip_code_prefix  99441 non-null  int64 \n",
      " 3   customer_city             99441 non-null  object\n",
      " 4   customer_state            99441 non-null  object\n",
      "dtypes: int64(1), object(4)\n",
      "memory usage: 3.8+ MB\n"
     ]
    }
   ],
   "source": [
    "customers.info()"
   ]
  },
  {
   "cell_type": "code",
   "execution_count": 5,
   "id": "871cf0b3",
   "metadata": {},
   "outputs": [
    {
     "name": "stdout",
     "output_type": "stream",
     "text": [
      "<class 'pandas.core.frame.DataFrame'>\n",
      "RangeIndex: 99441 entries, 0 to 99440\n",
      "Data columns (total 8 columns):\n",
      " #   Column                         Non-Null Count  Dtype \n",
      "---  ------                         --------------  ----- \n",
      " 0   order_id                       99441 non-null  object\n",
      " 1   customer_id                    99441 non-null  object\n",
      " 2   order_status                   99441 non-null  object\n",
      " 3   order_purchase_timestamp       99441 non-null  object\n",
      " 4   order_approved_at              99281 non-null  object\n",
      " 5   order_delivered_carrier_date   97658 non-null  object\n",
      " 6   order_delivered_customer_date  96476 non-null  object\n",
      " 7   order_estimated_delivery_date  99441 non-null  object\n",
      "dtypes: object(8)\n",
      "memory usage: 6.1+ MB\n"
     ]
    }
   ],
   "source": [
    "orders.info()"
   ]
  },
  {
   "cell_type": "code",
   "execution_count": 6,
   "id": "dfd00c39",
   "metadata": {},
   "outputs": [
    {
     "name": "stdout",
     "output_type": "stream",
     "text": [
      "<class 'pandas.core.frame.DataFrame'>\n",
      "RangeIndex: 112650 entries, 0 to 112649\n",
      "Data columns (total 7 columns):\n",
      " #   Column               Non-Null Count   Dtype  \n",
      "---  ------               --------------   -----  \n",
      " 0   order_id             112650 non-null  object \n",
      " 1   order_item_id        112650 non-null  int64  \n",
      " 2   product_id           112650 non-null  object \n",
      " 3   seller_id            112650 non-null  object \n",
      " 4   shipping_limit_date  112650 non-null  object \n",
      " 5   price                112650 non-null  float64\n",
      " 6   freight_value        112650 non-null  float64\n",
      "dtypes: float64(2), int64(1), object(4)\n",
      "memory usage: 6.0+ MB\n"
     ]
    }
   ],
   "source": [
    "order_items.info()"
   ]
  },
  {
   "cell_type": "code",
   "execution_count": 7,
   "id": "f6db702a",
   "metadata": {},
   "outputs": [
    {
     "name": "stdout",
     "output_type": "stream",
     "text": [
      "<class 'pandas.core.frame.DataFrame'>\n",
      "RangeIndex: 112650 entries, 0 to 112649\n",
      "Data columns (total 18 columns):\n",
      " #   Column                         Non-Null Count   Dtype  \n",
      "---  ------                         --------------   -----  \n",
      " 0   order_id                       112650 non-null  object \n",
      " 1   customer_id                    112650 non-null  object \n",
      " 2   order_status                   112650 non-null  object \n",
      " 3   order_purchase_timestamp       112650 non-null  object \n",
      " 4   order_approved_at              112635 non-null  object \n",
      " 5   order_delivered_carrier_date   111456 non-null  object \n",
      " 6   order_delivered_customer_date  110196 non-null  object \n",
      " 7   order_estimated_delivery_date  112650 non-null  object \n",
      " 8   customer_unique_id             112650 non-null  object \n",
      " 9   customer_zip_code_prefix       112650 non-null  int64  \n",
      " 10  customer_city                  112650 non-null  object \n",
      " 11  customer_state                 112650 non-null  object \n",
      " 12  order_item_id                  112650 non-null  int64  \n",
      " 13  product_id                     112650 non-null  object \n",
      " 14  seller_id                      112650 non-null  object \n",
      " 15  shipping_limit_date            112650 non-null  object \n",
      " 16  price                          112650 non-null  float64\n",
      " 17  freight_value                  112650 non-null  float64\n",
      "dtypes: float64(2), int64(2), object(14)\n",
      "memory usage: 15.5+ MB\n"
     ]
    }
   ],
   "source": [
    "# Agrupar DataFrames\n",
    "df = pd.merge(orders, customers, on = 'customer_id')\n",
    "df = pd.merge(df, order_items, on='order_id')\n",
    "\n",
    "df.info()"
   ]
  },
  {
   "cell_type": "code",
   "execution_count": 8,
   "id": "2921bb8e",
   "metadata": {},
   "outputs": [
    {
     "name": "stdout",
     "output_type": "stream",
     "text": [
      "O Dataframe possui 112650 linhas e 18 colunas.\n"
     ]
    }
   ],
   "source": [
    "print(f\"O Dataframe possui {df.shape[0]} linhas e {df.shape[1]} colunas.\")"
   ]
  },
  {
   "cell_type": "code",
   "execution_count": 9,
   "id": "36e15542",
   "metadata": {},
   "outputs": [
    {
     "data": {
      "text/html": [
       "<div>\n",
       "<style scoped>\n",
       "    .dataframe tbody tr th:only-of-type {\n",
       "        vertical-align: middle;\n",
       "    }\n",
       "\n",
       "    .dataframe tbody tr th {\n",
       "        vertical-align: top;\n",
       "    }\n",
       "\n",
       "    .dataframe thead th {\n",
       "        text-align: right;\n",
       "    }\n",
       "</style>\n",
       "<table border=\"1\" class=\"dataframe\">\n",
       "  <thead>\n",
       "    <tr style=\"text-align: right;\">\n",
       "      <th></th>\n",
       "      <th>customer_zip_code_prefix</th>\n",
       "      <th>order_item_id</th>\n",
       "      <th>price</th>\n",
       "      <th>freight_value</th>\n",
       "    </tr>\n",
       "  </thead>\n",
       "  <tbody>\n",
       "    <tr>\n",
       "      <th>count</th>\n",
       "      <td>112650.000000</td>\n",
       "      <td>112650.000000</td>\n",
       "      <td>112650.000000</td>\n",
       "      <td>112650.000000</td>\n",
       "    </tr>\n",
       "    <tr>\n",
       "      <th>mean</th>\n",
       "      <td>35119.309090</td>\n",
       "      <td>1.197834</td>\n",
       "      <td>120.653739</td>\n",
       "      <td>19.990320</td>\n",
       "    </tr>\n",
       "    <tr>\n",
       "      <th>std</th>\n",
       "      <td>29866.120801</td>\n",
       "      <td>0.705124</td>\n",
       "      <td>183.633928</td>\n",
       "      <td>15.806405</td>\n",
       "    </tr>\n",
       "    <tr>\n",
       "      <th>min</th>\n",
       "      <td>1003.000000</td>\n",
       "      <td>1.000000</td>\n",
       "      <td>0.850000</td>\n",
       "      <td>0.000000</td>\n",
       "    </tr>\n",
       "    <tr>\n",
       "      <th>25%</th>\n",
       "      <td>11310.000000</td>\n",
       "      <td>1.000000</td>\n",
       "      <td>39.900000</td>\n",
       "      <td>13.080000</td>\n",
       "    </tr>\n",
       "    <tr>\n",
       "      <th>50%</th>\n",
       "      <td>24340.000000</td>\n",
       "      <td>1.000000</td>\n",
       "      <td>74.990000</td>\n",
       "      <td>16.260000</td>\n",
       "    </tr>\n",
       "    <tr>\n",
       "      <th>75%</th>\n",
       "      <td>59028.750000</td>\n",
       "      <td>1.000000</td>\n",
       "      <td>134.900000</td>\n",
       "      <td>21.150000</td>\n",
       "    </tr>\n",
       "    <tr>\n",
       "      <th>max</th>\n",
       "      <td>99990.000000</td>\n",
       "      <td>21.000000</td>\n",
       "      <td>6735.000000</td>\n",
       "      <td>409.680000</td>\n",
       "    </tr>\n",
       "  </tbody>\n",
       "</table>\n",
       "</div>"
      ],
      "text/plain": [
       "       customer_zip_code_prefix  order_item_id          price  freight_value\n",
       "count             112650.000000  112650.000000  112650.000000  112650.000000\n",
       "mean               35119.309090       1.197834     120.653739      19.990320\n",
       "std                29866.120801       0.705124     183.633928      15.806405\n",
       "min                 1003.000000       1.000000       0.850000       0.000000\n",
       "25%                11310.000000       1.000000      39.900000      13.080000\n",
       "50%                24340.000000       1.000000      74.990000      16.260000\n",
       "75%                59028.750000       1.000000     134.900000      21.150000\n",
       "max                99990.000000      21.000000    6735.000000     409.680000"
      ]
     },
     "execution_count": 9,
     "metadata": {},
     "output_type": "execute_result"
    }
   ],
   "source": [
    "df.describe()"
   ]
  },
  {
   "cell_type": "code",
   "execution_count": 10,
   "id": "ceed9d0a",
   "metadata": {},
   "outputs": [
    {
     "data": {
      "text/plain": [
       "order_id                            0\n",
       "customer_id                         0\n",
       "order_status                        0\n",
       "order_purchase_timestamp            0\n",
       "order_approved_at                  15\n",
       "order_delivered_carrier_date     1194\n",
       "order_delivered_customer_date    2454\n",
       "order_estimated_delivery_date       0\n",
       "customer_unique_id                  0\n",
       "customer_zip_code_prefix            0\n",
       "customer_city                       0\n",
       "customer_state                      0\n",
       "order_item_id                       0\n",
       "product_id                          0\n",
       "seller_id                           0\n",
       "shipping_limit_date                 0\n",
       "price                               0\n",
       "freight_value                       0\n",
       "dtype: int64"
      ]
     },
     "execution_count": 10,
     "metadata": {},
     "output_type": "execute_result"
    }
   ],
   "source": [
    "# Verificar valores nulos\n",
    "null_values = df.isnull().sum()\n",
    "null_values"
   ]
  },
  {
   "cell_type": "code",
   "execution_count": 11,
   "id": "c3d7a73e",
   "metadata": {},
   "outputs": [],
   "source": [
    "# Separar Linhas e Colunas\n",
    "rows, columns = df.shape"
   ]
  },
  {
   "cell_type": "code",
   "execution_count": 12,
   "id": "bd81a4b5",
   "metadata": {},
   "outputs": [
    {
     "data": {
      "text/plain": [
       "order_id                         0.00\n",
       "customer_id                      0.00\n",
       "order_status                     0.00\n",
       "order_purchase_timestamp         0.00\n",
       "order_approved_at                0.01\n",
       "order_delivered_carrier_date     1.06\n",
       "order_delivered_customer_date    2.18\n",
       "order_estimated_delivery_date    0.00\n",
       "customer_unique_id               0.00\n",
       "customer_zip_code_prefix         0.00\n",
       "customer_city                    0.00\n",
       "customer_state                   0.00\n",
       "order_item_id                    0.00\n",
       "product_id                       0.00\n",
       "seller_id                        0.00\n",
       "shipping_limit_date              0.00\n",
       "price                            0.00\n",
       "freight_value                    0.00\n",
       "dtype: float64"
      ]
     },
     "execution_count": 12,
     "metadata": {},
     "output_type": "execute_result"
    }
   ],
   "source": [
    "# Verificar percentual de valores Nulos\n",
    "percent_nan = ((df.isnull().sum()/rows)*100).round(2)\n",
    "percent_nan"
   ]
  },
  {
   "cell_type": "code",
   "execution_count": 13,
   "id": "3cec837a",
   "metadata": {},
   "outputs": [
    {
     "data": {
      "text/plain": [
       "order_id                           0\n",
       "customer_id                        0\n",
       "order_status                       0\n",
       "order_purchase_timestamp           0\n",
       "order_approved_at                  0\n",
       "order_delivered_carrier_date       0\n",
       "order_delivered_customer_date      0\n",
       "order_estimated_delivery_date      0\n",
       "customer_unique_id                 0\n",
       "customer_zip_code_prefix           0\n",
       "customer_city                      0\n",
       "customer_state                     0\n",
       "order_item_id                      0\n",
       "product_id                         0\n",
       "seller_id                          0\n",
       "shipping_limit_date                0\n",
       "price                            0.0\n",
       "freight_value                    0.0\n",
       "dtype: object"
      ]
     },
     "execution_count": 13,
     "metadata": {},
     "output_type": "execute_result"
    }
   ],
   "source": [
    "# Verificar valores duplicados\n",
    "df[df.duplicated()].sum()"
   ]
  },
  {
   "cell_type": "code",
   "execution_count": 14,
   "id": "5fd95bfd-8b74-4d4b-8ffe-f2b27a4d92bf",
   "metadata": {},
   "outputs": [
    {
     "data": {
      "text/html": [
       "<div>\n",
       "<style scoped>\n",
       "    .dataframe tbody tr th:only-of-type {\n",
       "        vertical-align: middle;\n",
       "    }\n",
       "\n",
       "    .dataframe tbody tr th {\n",
       "        vertical-align: top;\n",
       "    }\n",
       "\n",
       "    .dataframe thead th {\n",
       "        text-align: right;\n",
       "    }\n",
       "</style>\n",
       "<table border=\"1\" class=\"dataframe\">\n",
       "  <thead>\n",
       "    <tr style=\"text-align: right;\">\n",
       "      <th></th>\n",
       "      <th>Variavel</th>\n",
       "      <th>contagem_distinta</th>\n",
       "    </tr>\n",
       "  </thead>\n",
       "  <tbody>\n",
       "    <tr>\n",
       "      <th>0</th>\n",
       "      <td>order_id</td>\n",
       "      <td>98666</td>\n",
       "    </tr>\n",
       "    <tr>\n",
       "      <th>1</th>\n",
       "      <td>customer_id</td>\n",
       "      <td>98666</td>\n",
       "    </tr>\n",
       "    <tr>\n",
       "      <th>2</th>\n",
       "      <td>order_status</td>\n",
       "      <td>7</td>\n",
       "    </tr>\n",
       "    <tr>\n",
       "      <th>3</th>\n",
       "      <td>order_purchase_timestamp</td>\n",
       "      <td>98112</td>\n",
       "    </tr>\n",
       "    <tr>\n",
       "      <th>4</th>\n",
       "      <td>order_approved_at</td>\n",
       "      <td>90174</td>\n",
       "    </tr>\n",
       "    <tr>\n",
       "      <th>5</th>\n",
       "      <td>order_delivered_carrier_date</td>\n",
       "      <td>81017</td>\n",
       "    </tr>\n",
       "    <tr>\n",
       "      <th>6</th>\n",
       "      <td>order_delivered_customer_date</td>\n",
       "      <td>95664</td>\n",
       "    </tr>\n",
       "    <tr>\n",
       "      <th>7</th>\n",
       "      <td>order_estimated_delivery_date</td>\n",
       "      <td>450</td>\n",
       "    </tr>\n",
       "    <tr>\n",
       "      <th>8</th>\n",
       "      <td>customer_unique_id</td>\n",
       "      <td>95420</td>\n",
       "    </tr>\n",
       "    <tr>\n",
       "      <th>9</th>\n",
       "      <td>customer_zip_code_prefix</td>\n",
       "      <td>14976</td>\n",
       "    </tr>\n",
       "    <tr>\n",
       "      <th>10</th>\n",
       "      <td>customer_city</td>\n",
       "      <td>4110</td>\n",
       "    </tr>\n",
       "    <tr>\n",
       "      <th>11</th>\n",
       "      <td>customer_state</td>\n",
       "      <td>27</td>\n",
       "    </tr>\n",
       "    <tr>\n",
       "      <th>12</th>\n",
       "      <td>order_item_id</td>\n",
       "      <td>21</td>\n",
       "    </tr>\n",
       "    <tr>\n",
       "      <th>13</th>\n",
       "      <td>product_id</td>\n",
       "      <td>32951</td>\n",
       "    </tr>\n",
       "    <tr>\n",
       "      <th>14</th>\n",
       "      <td>seller_id</td>\n",
       "      <td>3095</td>\n",
       "    </tr>\n",
       "    <tr>\n",
       "      <th>15</th>\n",
       "      <td>shipping_limit_date</td>\n",
       "      <td>93318</td>\n",
       "    </tr>\n",
       "    <tr>\n",
       "      <th>16</th>\n",
       "      <td>price</td>\n",
       "      <td>5968</td>\n",
       "    </tr>\n",
       "    <tr>\n",
       "      <th>17</th>\n",
       "      <td>freight_value</td>\n",
       "      <td>6999</td>\n",
       "    </tr>\n",
       "  </tbody>\n",
       "</table>\n",
       "</div>"
      ],
      "text/plain": [
       "                         Variavel  contagem_distinta\n",
       "0                        order_id              98666\n",
       "1                     customer_id              98666\n",
       "2                    order_status                  7\n",
       "3        order_purchase_timestamp              98112\n",
       "4               order_approved_at              90174\n",
       "5    order_delivered_carrier_date              81017\n",
       "6   order_delivered_customer_date              95664\n",
       "7   order_estimated_delivery_date                450\n",
       "8              customer_unique_id              95420\n",
       "9        customer_zip_code_prefix              14976\n",
       "10                  customer_city               4110\n",
       "11                 customer_state                 27\n",
       "12                  order_item_id                 21\n",
       "13                     product_id              32951\n",
       "14                      seller_id               3095\n",
       "15            shipping_limit_date              93318\n",
       "16                          price               5968\n",
       "17                  freight_value               6999"
      ]
     },
     "execution_count": 14,
     "metadata": {},
     "output_type": "execute_result"
    }
   ],
   "source": [
    "# Criar uma lista de dicionários com o nome da coluna e a contagem de valores distintos\n",
    "data = [{'Variavel': column, 'contagem_distinta': df[column].nunique()} for column in df.columns]\n",
    "\n",
    "# Criar o DataFrame a partir da lista de dicionários\n",
    "count = pd.DataFrame(data)\n",
    "\n",
    "# Exibir o DataFrame\n",
    "count"
   ]
  },
  {
   "cell_type": "code",
   "execution_count": 15,
   "id": "273a3619-c53c-4dd7-8fd4-d8a3c765306f",
   "metadata": {},
   "outputs": [
    {
     "data": {
      "text/html": [
       "<div>\n",
       "<style scoped>\n",
       "    .dataframe tbody tr th:only-of-type {\n",
       "        vertical-align: middle;\n",
       "    }\n",
       "\n",
       "    .dataframe tbody tr th {\n",
       "        vertical-align: top;\n",
       "    }\n",
       "\n",
       "    .dataframe thead th {\n",
       "        text-align: right;\n",
       "    }\n",
       "</style>\n",
       "<table border=\"1\" class=\"dataframe\">\n",
       "  <thead>\n",
       "    <tr style=\"text-align: right;\">\n",
       "      <th></th>\n",
       "      <th>status_pedido</th>\n",
       "      <th>contagem</th>\n",
       "    </tr>\n",
       "  </thead>\n",
       "  <tbody>\n",
       "    <tr>\n",
       "      <th>0</th>\n",
       "      <td>delivered</td>\n",
       "      <td>110197</td>\n",
       "    </tr>\n",
       "    <tr>\n",
       "      <th>1</th>\n",
       "      <td>shipped</td>\n",
       "      <td>1185</td>\n",
       "    </tr>\n",
       "    <tr>\n",
       "      <th>2</th>\n",
       "      <td>canceled</td>\n",
       "      <td>542</td>\n",
       "    </tr>\n",
       "    <tr>\n",
       "      <th>3</th>\n",
       "      <td>invoiced</td>\n",
       "      <td>359</td>\n",
       "    </tr>\n",
       "    <tr>\n",
       "      <th>4</th>\n",
       "      <td>processing</td>\n",
       "      <td>357</td>\n",
       "    </tr>\n",
       "    <tr>\n",
       "      <th>5</th>\n",
       "      <td>unavailable</td>\n",
       "      <td>7</td>\n",
       "    </tr>\n",
       "    <tr>\n",
       "      <th>6</th>\n",
       "      <td>approved</td>\n",
       "      <td>3</td>\n",
       "    </tr>\n",
       "  </tbody>\n",
       "</table>\n",
       "</div>"
      ],
      "text/plain": [
       "  status_pedido  contagem\n",
       "0     delivered    110197\n",
       "1       shipped      1185\n",
       "2      canceled       542\n",
       "3      invoiced       359\n",
       "4    processing       357\n",
       "5   unavailable         7\n",
       "6      approved         3"
      ]
     },
     "execution_count": 15,
     "metadata": {},
     "output_type": "execute_result"
    }
   ],
   "source": [
    "# Verificar quantidade de diferente tipos de status do pedido\n",
    "order_status_count = df['order_status'].value_counts().reset_index()\n",
    "order_status_count.columns = ['status_pedido', 'contagem']\n",
    "\n",
    "order_status_count"
   ]
  },
  {
   "cell_type": "code",
   "execution_count": 16,
   "id": "fa03ce33-64c9-433d-a724-fd933697b8b3",
   "metadata": {},
   "outputs": [
    {
     "data": {
      "text/html": [
       "<div>\n",
       "<style scoped>\n",
       "    .dataframe tbody tr th:only-of-type {\n",
       "        vertical-align: middle;\n",
       "    }\n",
       "\n",
       "    .dataframe tbody tr th {\n",
       "        vertical-align: top;\n",
       "    }\n",
       "\n",
       "    .dataframe thead th {\n",
       "        text-align: right;\n",
       "    }\n",
       "</style>\n",
       "<table border=\"1\" class=\"dataframe\">\n",
       "  <thead>\n",
       "    <tr style=\"text-align: right;\">\n",
       "      <th></th>\n",
       "      <th>estado</th>\n",
       "      <th>contagem</th>\n",
       "    </tr>\n",
       "  </thead>\n",
       "  <tbody>\n",
       "    <tr>\n",
       "      <th>0</th>\n",
       "      <td>SP</td>\n",
       "      <td>47449</td>\n",
       "    </tr>\n",
       "    <tr>\n",
       "      <th>1</th>\n",
       "      <td>RJ</td>\n",
       "      <td>14579</td>\n",
       "    </tr>\n",
       "    <tr>\n",
       "      <th>2</th>\n",
       "      <td>MG</td>\n",
       "      <td>13129</td>\n",
       "    </tr>\n",
       "    <tr>\n",
       "      <th>3</th>\n",
       "      <td>RS</td>\n",
       "      <td>6235</td>\n",
       "    </tr>\n",
       "    <tr>\n",
       "      <th>4</th>\n",
       "      <td>PR</td>\n",
       "      <td>5740</td>\n",
       "    </tr>\n",
       "    <tr>\n",
       "      <th>5</th>\n",
       "      <td>SC</td>\n",
       "      <td>4176</td>\n",
       "    </tr>\n",
       "    <tr>\n",
       "      <th>6</th>\n",
       "      <td>BA</td>\n",
       "      <td>3799</td>\n",
       "    </tr>\n",
       "    <tr>\n",
       "      <th>7</th>\n",
       "      <td>DF</td>\n",
       "      <td>2406</td>\n",
       "    </tr>\n",
       "    <tr>\n",
       "      <th>8</th>\n",
       "      <td>GO</td>\n",
       "      <td>2333</td>\n",
       "    </tr>\n",
       "    <tr>\n",
       "      <th>9</th>\n",
       "      <td>ES</td>\n",
       "      <td>2256</td>\n",
       "    </tr>\n",
       "  </tbody>\n",
       "</table>\n",
       "</div>"
      ],
      "text/plain": [
       "  estado  contagem\n",
       "0     SP     47449\n",
       "1     RJ     14579\n",
       "2     MG     13129\n",
       "3     RS      6235\n",
       "4     PR      5740\n",
       "5     SC      4176\n",
       "6     BA      3799\n",
       "7     DF      2406\n",
       "8     GO      2333\n",
       "9     ES      2256"
      ]
     },
     "execution_count": 16,
     "metadata": {},
     "output_type": "execute_result"
    }
   ],
   "source": [
    "# Verificar quantidade de diferente tipos de status do pedido\n",
    "customer_state_count = df['customer_state'].value_counts().reset_index()\n",
    "customer_state_count.columns = ['estado', 'contagem']\n",
    "\n",
    "customer_state_count = customer_state_count.head(10)\n",
    "customer_state_count"
   ]
  },
  {
   "cell_type": "code",
   "execution_count": 17,
   "id": "0bfc4df6-c677-401c-928a-60ec46d21a6d",
   "metadata": {},
   "outputs": [
    {
     "data": {
      "application/vnd.plotly.v1+json": {
       "config": {
        "plotlyServerURL": "https://plot.ly"
       },
       "data": [
        {
         "alignmentgroup": "True",
         "hovertemplate": "Estados=%{x}<br>Quantidade de Produtos=%{text}<extra></extra>",
         "legendgroup": "SP",
         "marker": {
          "color": "#636efa",
          "pattern": {
           "shape": ""
          }
         },
         "name": "SP",
         "offsetgroup": "SP",
         "orientation": "v",
         "showlegend": true,
         "text": [
          47449
         ],
         "textfont": {
          "size": 12
         },
         "textposition": "outside",
         "texttemplate": "%{text}",
         "type": "bar",
         "x": [
          "SP"
         ],
         "xaxis": "x",
         "y": [
          47449
         ],
         "yaxis": "y"
        },
        {
         "alignmentgroup": "True",
         "hovertemplate": "Estados=%{x}<br>Quantidade de Produtos=%{text}<extra></extra>",
         "legendgroup": "RJ",
         "marker": {
          "color": "#EF553B",
          "pattern": {
           "shape": ""
          }
         },
         "name": "RJ",
         "offsetgroup": "RJ",
         "orientation": "v",
         "showlegend": true,
         "text": [
          14579
         ],
         "textfont": {
          "size": 12
         },
         "textposition": "outside",
         "texttemplate": "%{text}",
         "type": "bar",
         "x": [
          "RJ"
         ],
         "xaxis": "x",
         "y": [
          14579
         ],
         "yaxis": "y"
        },
        {
         "alignmentgroup": "True",
         "hovertemplate": "Estados=%{x}<br>Quantidade de Produtos=%{text}<extra></extra>",
         "legendgroup": "MG",
         "marker": {
          "color": "#00cc96",
          "pattern": {
           "shape": ""
          }
         },
         "name": "MG",
         "offsetgroup": "MG",
         "orientation": "v",
         "showlegend": true,
         "text": [
          13129
         ],
         "textfont": {
          "size": 12
         },
         "textposition": "outside",
         "texttemplate": "%{text}",
         "type": "bar",
         "x": [
          "MG"
         ],
         "xaxis": "x",
         "y": [
          13129
         ],
         "yaxis": "y"
        },
        {
         "alignmentgroup": "True",
         "hovertemplate": "Estados=%{x}<br>Quantidade de Produtos=%{text}<extra></extra>",
         "legendgroup": "RS",
         "marker": {
          "color": "#ab63fa",
          "pattern": {
           "shape": ""
          }
         },
         "name": "RS",
         "offsetgroup": "RS",
         "orientation": "v",
         "showlegend": true,
         "text": [
          6235
         ],
         "textfont": {
          "size": 12
         },
         "textposition": "outside",
         "texttemplate": "%{text}",
         "type": "bar",
         "x": [
          "RS"
         ],
         "xaxis": "x",
         "y": [
          6235
         ],
         "yaxis": "y"
        },
        {
         "alignmentgroup": "True",
         "hovertemplate": "Estados=%{x}<br>Quantidade de Produtos=%{text}<extra></extra>",
         "legendgroup": "PR",
         "marker": {
          "color": "#FFA15A",
          "pattern": {
           "shape": ""
          }
         },
         "name": "PR",
         "offsetgroup": "PR",
         "orientation": "v",
         "showlegend": true,
         "text": [
          5740
         ],
         "textfont": {
          "size": 12
         },
         "textposition": "outside",
         "texttemplate": "%{text}",
         "type": "bar",
         "x": [
          "PR"
         ],
         "xaxis": "x",
         "y": [
          5740
         ],
         "yaxis": "y"
        },
        {
         "alignmentgroup": "True",
         "hovertemplate": "Estados=%{x}<br>Quantidade de Produtos=%{text}<extra></extra>",
         "legendgroup": "SC",
         "marker": {
          "color": "#19d3f3",
          "pattern": {
           "shape": ""
          }
         },
         "name": "SC",
         "offsetgroup": "SC",
         "orientation": "v",
         "showlegend": true,
         "text": [
          4176
         ],
         "textfont": {
          "size": 12
         },
         "textposition": "outside",
         "texttemplate": "%{text}",
         "type": "bar",
         "x": [
          "SC"
         ],
         "xaxis": "x",
         "y": [
          4176
         ],
         "yaxis": "y"
        },
        {
         "alignmentgroup": "True",
         "hovertemplate": "Estados=%{x}<br>Quantidade de Produtos=%{text}<extra></extra>",
         "legendgroup": "BA",
         "marker": {
          "color": "#FF6692",
          "pattern": {
           "shape": ""
          }
         },
         "name": "BA",
         "offsetgroup": "BA",
         "orientation": "v",
         "showlegend": true,
         "text": [
          3799
         ],
         "textfont": {
          "size": 12
         },
         "textposition": "outside",
         "texttemplate": "%{text}",
         "type": "bar",
         "x": [
          "BA"
         ],
         "xaxis": "x",
         "y": [
          3799
         ],
         "yaxis": "y"
        },
        {
         "alignmentgroup": "True",
         "hovertemplate": "Estados=%{x}<br>Quantidade de Produtos=%{text}<extra></extra>",
         "legendgroup": "DF",
         "marker": {
          "color": "#B6E880",
          "pattern": {
           "shape": ""
          }
         },
         "name": "DF",
         "offsetgroup": "DF",
         "orientation": "v",
         "showlegend": true,
         "text": [
          2406
         ],
         "textfont": {
          "size": 12
         },
         "textposition": "outside",
         "texttemplate": "%{text}",
         "type": "bar",
         "x": [
          "DF"
         ],
         "xaxis": "x",
         "y": [
          2406
         ],
         "yaxis": "y"
        },
        {
         "alignmentgroup": "True",
         "hovertemplate": "Estados=%{x}<br>Quantidade de Produtos=%{text}<extra></extra>",
         "legendgroup": "GO",
         "marker": {
          "color": "#FF97FF",
          "pattern": {
           "shape": ""
          }
         },
         "name": "GO",
         "offsetgroup": "GO",
         "orientation": "v",
         "showlegend": true,
         "text": [
          2333
         ],
         "textfont": {
          "size": 12
         },
         "textposition": "outside",
         "texttemplate": "%{text}",
         "type": "bar",
         "x": [
          "GO"
         ],
         "xaxis": "x",
         "y": [
          2333
         ],
         "yaxis": "y"
        },
        {
         "alignmentgroup": "True",
         "hovertemplate": "Estados=%{x}<br>Quantidade de Produtos=%{text}<extra></extra>",
         "legendgroup": "ES",
         "marker": {
          "color": "#FECB52",
          "pattern": {
           "shape": ""
          }
         },
         "name": "ES",
         "offsetgroup": "ES",
         "orientation": "v",
         "showlegend": true,
         "text": [
          2256
         ],
         "textfont": {
          "size": 12
         },
         "textposition": "outside",
         "texttemplate": "%{text}",
         "type": "bar",
         "x": [
          "ES"
         ],
         "xaxis": "x",
         "y": [
          2256
         ],
         "yaxis": "y"
        }
       ],
       "layout": {
        "barmode": "relative",
        "legend": {
         "title": {
          "text": "Estados"
         },
         "tracegroupgap": 0
        },
        "template": {
         "data": {
          "bar": [
           {
            "error_x": {
             "color": "#2a3f5f"
            },
            "error_y": {
             "color": "#2a3f5f"
            },
            "marker": {
             "line": {
              "color": "#E5ECF6",
              "width": 0.5
             },
             "pattern": {
              "fillmode": "overlay",
              "size": 10,
              "solidity": 0.2
             }
            },
            "type": "bar"
           }
          ],
          "barpolar": [
           {
            "marker": {
             "line": {
              "color": "#E5ECF6",
              "width": 0.5
             },
             "pattern": {
              "fillmode": "overlay",
              "size": 10,
              "solidity": 0.2
             }
            },
            "type": "barpolar"
           }
          ],
          "carpet": [
           {
            "aaxis": {
             "endlinecolor": "#2a3f5f",
             "gridcolor": "white",
             "linecolor": "white",
             "minorgridcolor": "white",
             "startlinecolor": "#2a3f5f"
            },
            "baxis": {
             "endlinecolor": "#2a3f5f",
             "gridcolor": "white",
             "linecolor": "white",
             "minorgridcolor": "white",
             "startlinecolor": "#2a3f5f"
            },
            "type": "carpet"
           }
          ],
          "choropleth": [
           {
            "colorbar": {
             "outlinewidth": 0,
             "ticks": ""
            },
            "type": "choropleth"
           }
          ],
          "contour": [
           {
            "colorbar": {
             "outlinewidth": 0,
             "ticks": ""
            },
            "colorscale": [
             [
              0,
              "#0d0887"
             ],
             [
              0.1111111111111111,
              "#46039f"
             ],
             [
              0.2222222222222222,
              "#7201a8"
             ],
             [
              0.3333333333333333,
              "#9c179e"
             ],
             [
              0.4444444444444444,
              "#bd3786"
             ],
             [
              0.5555555555555556,
              "#d8576b"
             ],
             [
              0.6666666666666666,
              "#ed7953"
             ],
             [
              0.7777777777777778,
              "#fb9f3a"
             ],
             [
              0.8888888888888888,
              "#fdca26"
             ],
             [
              1,
              "#f0f921"
             ]
            ],
            "type": "contour"
           }
          ],
          "contourcarpet": [
           {
            "colorbar": {
             "outlinewidth": 0,
             "ticks": ""
            },
            "type": "contourcarpet"
           }
          ],
          "heatmap": [
           {
            "colorbar": {
             "outlinewidth": 0,
             "ticks": ""
            },
            "colorscale": [
             [
              0,
              "#0d0887"
             ],
             [
              0.1111111111111111,
              "#46039f"
             ],
             [
              0.2222222222222222,
              "#7201a8"
             ],
             [
              0.3333333333333333,
              "#9c179e"
             ],
             [
              0.4444444444444444,
              "#bd3786"
             ],
             [
              0.5555555555555556,
              "#d8576b"
             ],
             [
              0.6666666666666666,
              "#ed7953"
             ],
             [
              0.7777777777777778,
              "#fb9f3a"
             ],
             [
              0.8888888888888888,
              "#fdca26"
             ],
             [
              1,
              "#f0f921"
             ]
            ],
            "type": "heatmap"
           }
          ],
          "heatmapgl": [
           {
            "colorbar": {
             "outlinewidth": 0,
             "ticks": ""
            },
            "colorscale": [
             [
              0,
              "#0d0887"
             ],
             [
              0.1111111111111111,
              "#46039f"
             ],
             [
              0.2222222222222222,
              "#7201a8"
             ],
             [
              0.3333333333333333,
              "#9c179e"
             ],
             [
              0.4444444444444444,
              "#bd3786"
             ],
             [
              0.5555555555555556,
              "#d8576b"
             ],
             [
              0.6666666666666666,
              "#ed7953"
             ],
             [
              0.7777777777777778,
              "#fb9f3a"
             ],
             [
              0.8888888888888888,
              "#fdca26"
             ],
             [
              1,
              "#f0f921"
             ]
            ],
            "type": "heatmapgl"
           }
          ],
          "histogram": [
           {
            "marker": {
             "pattern": {
              "fillmode": "overlay",
              "size": 10,
              "solidity": 0.2
             }
            },
            "type": "histogram"
           }
          ],
          "histogram2d": [
           {
            "colorbar": {
             "outlinewidth": 0,
             "ticks": ""
            },
            "colorscale": [
             [
              0,
              "#0d0887"
             ],
             [
              0.1111111111111111,
              "#46039f"
             ],
             [
              0.2222222222222222,
              "#7201a8"
             ],
             [
              0.3333333333333333,
              "#9c179e"
             ],
             [
              0.4444444444444444,
              "#bd3786"
             ],
             [
              0.5555555555555556,
              "#d8576b"
             ],
             [
              0.6666666666666666,
              "#ed7953"
             ],
             [
              0.7777777777777778,
              "#fb9f3a"
             ],
             [
              0.8888888888888888,
              "#fdca26"
             ],
             [
              1,
              "#f0f921"
             ]
            ],
            "type": "histogram2d"
           }
          ],
          "histogram2dcontour": [
           {
            "colorbar": {
             "outlinewidth": 0,
             "ticks": ""
            },
            "colorscale": [
             [
              0,
              "#0d0887"
             ],
             [
              0.1111111111111111,
              "#46039f"
             ],
             [
              0.2222222222222222,
              "#7201a8"
             ],
             [
              0.3333333333333333,
              "#9c179e"
             ],
             [
              0.4444444444444444,
              "#bd3786"
             ],
             [
              0.5555555555555556,
              "#d8576b"
             ],
             [
              0.6666666666666666,
              "#ed7953"
             ],
             [
              0.7777777777777778,
              "#fb9f3a"
             ],
             [
              0.8888888888888888,
              "#fdca26"
             ],
             [
              1,
              "#f0f921"
             ]
            ],
            "type": "histogram2dcontour"
           }
          ],
          "mesh3d": [
           {
            "colorbar": {
             "outlinewidth": 0,
             "ticks": ""
            },
            "type": "mesh3d"
           }
          ],
          "parcoords": [
           {
            "line": {
             "colorbar": {
              "outlinewidth": 0,
              "ticks": ""
             }
            },
            "type": "parcoords"
           }
          ],
          "pie": [
           {
            "automargin": true,
            "type": "pie"
           }
          ],
          "scatter": [
           {
            "fillpattern": {
             "fillmode": "overlay",
             "size": 10,
             "solidity": 0.2
            },
            "type": "scatter"
           }
          ],
          "scatter3d": [
           {
            "line": {
             "colorbar": {
              "outlinewidth": 0,
              "ticks": ""
             }
            },
            "marker": {
             "colorbar": {
              "outlinewidth": 0,
              "ticks": ""
             }
            },
            "type": "scatter3d"
           }
          ],
          "scattercarpet": [
           {
            "marker": {
             "colorbar": {
              "outlinewidth": 0,
              "ticks": ""
             }
            },
            "type": "scattercarpet"
           }
          ],
          "scattergeo": [
           {
            "marker": {
             "colorbar": {
              "outlinewidth": 0,
              "ticks": ""
             }
            },
            "type": "scattergeo"
           }
          ],
          "scattergl": [
           {
            "marker": {
             "colorbar": {
              "outlinewidth": 0,
              "ticks": ""
             }
            },
            "type": "scattergl"
           }
          ],
          "scattermapbox": [
           {
            "marker": {
             "colorbar": {
              "outlinewidth": 0,
              "ticks": ""
             }
            },
            "type": "scattermapbox"
           }
          ],
          "scatterpolar": [
           {
            "marker": {
             "colorbar": {
              "outlinewidth": 0,
              "ticks": ""
             }
            },
            "type": "scatterpolar"
           }
          ],
          "scatterpolargl": [
           {
            "marker": {
             "colorbar": {
              "outlinewidth": 0,
              "ticks": ""
             }
            },
            "type": "scatterpolargl"
           }
          ],
          "scatterternary": [
           {
            "marker": {
             "colorbar": {
              "outlinewidth": 0,
              "ticks": ""
             }
            },
            "type": "scatterternary"
           }
          ],
          "surface": [
           {
            "colorbar": {
             "outlinewidth": 0,
             "ticks": ""
            },
            "colorscale": [
             [
              0,
              "#0d0887"
             ],
             [
              0.1111111111111111,
              "#46039f"
             ],
             [
              0.2222222222222222,
              "#7201a8"
             ],
             [
              0.3333333333333333,
              "#9c179e"
             ],
             [
              0.4444444444444444,
              "#bd3786"
             ],
             [
              0.5555555555555556,
              "#d8576b"
             ],
             [
              0.6666666666666666,
              "#ed7953"
             ],
             [
              0.7777777777777778,
              "#fb9f3a"
             ],
             [
              0.8888888888888888,
              "#fdca26"
             ],
             [
              1,
              "#f0f921"
             ]
            ],
            "type": "surface"
           }
          ],
          "table": [
           {
            "cells": {
             "fill": {
              "color": "#EBF0F8"
             },
             "line": {
              "color": "white"
             }
            },
            "header": {
             "fill": {
              "color": "#C8D4E3"
             },
             "line": {
              "color": "white"
             }
            },
            "type": "table"
           }
          ]
         },
         "layout": {
          "annotationdefaults": {
           "arrowcolor": "#2a3f5f",
           "arrowhead": 0,
           "arrowwidth": 1
          },
          "autotypenumbers": "strict",
          "coloraxis": {
           "colorbar": {
            "outlinewidth": 0,
            "ticks": ""
           }
          },
          "colorscale": {
           "diverging": [
            [
             0,
             "#8e0152"
            ],
            [
             0.1,
             "#c51b7d"
            ],
            [
             0.2,
             "#de77ae"
            ],
            [
             0.3,
             "#f1b6da"
            ],
            [
             0.4,
             "#fde0ef"
            ],
            [
             0.5,
             "#f7f7f7"
            ],
            [
             0.6,
             "#e6f5d0"
            ],
            [
             0.7,
             "#b8e186"
            ],
            [
             0.8,
             "#7fbc41"
            ],
            [
             0.9,
             "#4d9221"
            ],
            [
             1,
             "#276419"
            ]
           ],
           "sequential": [
            [
             0,
             "#0d0887"
            ],
            [
             0.1111111111111111,
             "#46039f"
            ],
            [
             0.2222222222222222,
             "#7201a8"
            ],
            [
             0.3333333333333333,
             "#9c179e"
            ],
            [
             0.4444444444444444,
             "#bd3786"
            ],
            [
             0.5555555555555556,
             "#d8576b"
            ],
            [
             0.6666666666666666,
             "#ed7953"
            ],
            [
             0.7777777777777778,
             "#fb9f3a"
            ],
            [
             0.8888888888888888,
             "#fdca26"
            ],
            [
             1,
             "#f0f921"
            ]
           ],
           "sequentialminus": [
            [
             0,
             "#0d0887"
            ],
            [
             0.1111111111111111,
             "#46039f"
            ],
            [
             0.2222222222222222,
             "#7201a8"
            ],
            [
             0.3333333333333333,
             "#9c179e"
            ],
            [
             0.4444444444444444,
             "#bd3786"
            ],
            [
             0.5555555555555556,
             "#d8576b"
            ],
            [
             0.6666666666666666,
             "#ed7953"
            ],
            [
             0.7777777777777778,
             "#fb9f3a"
            ],
            [
             0.8888888888888888,
             "#fdca26"
            ],
            [
             1,
             "#f0f921"
            ]
           ]
          },
          "colorway": [
           "#636efa",
           "#EF553B",
           "#00cc96",
           "#ab63fa",
           "#FFA15A",
           "#19d3f3",
           "#FF6692",
           "#B6E880",
           "#FF97FF",
           "#FECB52"
          ],
          "font": {
           "color": "#2a3f5f"
          },
          "geo": {
           "bgcolor": "white",
           "lakecolor": "white",
           "landcolor": "#E5ECF6",
           "showlakes": true,
           "showland": true,
           "subunitcolor": "white"
          },
          "hoverlabel": {
           "align": "left"
          },
          "hovermode": "closest",
          "mapbox": {
           "style": "light"
          },
          "paper_bgcolor": "white",
          "plot_bgcolor": "#E5ECF6",
          "polar": {
           "angularaxis": {
            "gridcolor": "white",
            "linecolor": "white",
            "ticks": ""
           },
           "bgcolor": "#E5ECF6",
           "radialaxis": {
            "gridcolor": "white",
            "linecolor": "white",
            "ticks": ""
           }
          },
          "scene": {
           "xaxis": {
            "backgroundcolor": "#E5ECF6",
            "gridcolor": "white",
            "gridwidth": 2,
            "linecolor": "white",
            "showbackground": true,
            "ticks": "",
            "zerolinecolor": "white"
           },
           "yaxis": {
            "backgroundcolor": "#E5ECF6",
            "gridcolor": "white",
            "gridwidth": 2,
            "linecolor": "white",
            "showbackground": true,
            "ticks": "",
            "zerolinecolor": "white"
           },
           "zaxis": {
            "backgroundcolor": "#E5ECF6",
            "gridcolor": "white",
            "gridwidth": 2,
            "linecolor": "white",
            "showbackground": true,
            "ticks": "",
            "zerolinecolor": "white"
           }
          },
          "shapedefaults": {
           "line": {
            "color": "#2a3f5f"
           }
          },
          "ternary": {
           "aaxis": {
            "gridcolor": "white",
            "linecolor": "white",
            "ticks": ""
           },
           "baxis": {
            "gridcolor": "white",
            "linecolor": "white",
            "ticks": ""
           },
           "bgcolor": "#E5ECF6",
           "caxis": {
            "gridcolor": "white",
            "linecolor": "white",
            "ticks": ""
           }
          },
          "title": {
           "x": 0.05
          },
          "xaxis": {
           "automargin": true,
           "gridcolor": "white",
           "linecolor": "white",
           "ticks": "",
           "title": {
            "standoff": 15
           },
           "zerolinecolor": "white",
           "zerolinewidth": 2
          },
          "yaxis": {
           "automargin": true,
           "gridcolor": "white",
           "linecolor": "white",
           "ticks": "",
           "title": {
            "standoff": 15
           },
           "zerolinecolor": "white",
           "zerolinewidth": 2
          }
         }
        },
        "title": {
         "text": "Pedidos por Estado"
        },
        "xaxis": {
         "anchor": "y",
         "categoryarray": [
          "SP",
          "RJ",
          "MG",
          "RS",
          "PR",
          "SC",
          "BA",
          "DF",
          "GO",
          "ES"
         ],
         "categoryorder": "array",
         "domain": [
          0,
          1
         ],
         "title": {
          "text": "Estados"
         }
        },
        "yaxis": {
         "anchor": "x",
         "domain": [
          0,
          1
         ],
         "title": {
          "text": "Quantidade de Produtos"
         }
        }
       }
      }
     },
     "metadata": {},
     "output_type": "display_data"
    }
   ],
   "source": [
    "# Vizualizar Histograma dos Pedidos por Estado\n",
    "fig = px.bar(customer_state_count, x='estado', y='contagem', color='estado',\n",
    "            title='Pedidos por Estado', text='contagem',\n",
    "            labels={'estado': 'Estados', 'contagem': 'Quantidade de Produtos'})\n",
    "\n",
    "fig.update_traces(textposition='outside', texttemplate='%{text}', textfont_size=12)\n",
    "fig.show()"
   ]
  },
  {
   "cell_type": "code",
   "execution_count": 18,
   "id": "e23283ec-f129-4bed-8e4d-39cf796cd922",
   "metadata": {},
   "outputs": [
    {
     "data": {
      "image/png": "[encoded data removed]",
      "text/plain": [
       "<Figure size 1000x600 with 1 Axes>"
      ]
     },
     "metadata": {},
     "output_type": "display_data"
    }
   ],
   "source": [
    "# Vizualizar Correlação\n",
    "# Vizualizar Dispersão\n",
    "# Valores de Preço x Valor do Frete\n",
    "plt.figure(figsize=(10,6))\n",
    "sns.regplot(x='price', y='freight_value', data=df, scatter_kws={'alpha':0.5})\n",
    "\n",
    "plt.title('Relação entre preço e valor do frete')\n",
    "plt.xlabel('Preço')\n",
    "plt.ylabel('Valor do Frete')\n",
    "\n",
    "plt.show()"
   ]
  },
  {
   "cell_type": "code",
   "execution_count": 19,
   "id": "c669e641-5ccd-40aa-83f4-aa6142b42ce8",
   "metadata": {},
   "outputs": [
    {
     "data": {
      "text/plain": [
       "0.41420431036303473"
      ]
     },
     "execution_count": 19,
     "metadata": {},
     "output_type": "execute_result"
    }
   ],
   "source": [
    "# Verificar Valor de Correlação \n",
    "# Valores de Preço x Valor do Frete \n",
    "df['price'].corr(df['freight_value'])"
   ]
  },
  {
   "cell_type": "code",
   "execution_count": 20,
   "id": "78a9ea3d-366c-44f8-aff9-bc0b5a5288ca",
   "metadata": {},
   "outputs": [
    {
     "data": {
      "text/html": [
       "<div>\n",
       "<style scoped>\n",
       "    .dataframe tbody tr th:only-of-type {\n",
       "        vertical-align: middle;\n",
       "    }\n",
       "\n",
       "    .dataframe tbody tr th {\n",
       "        vertical-align: top;\n",
       "    }\n",
       "\n",
       "    .dataframe thead th {\n",
       "        text-align: right;\n",
       "    }\n",
       "</style>\n",
       "<table border=\"1\" class=\"dataframe\">\n",
       "  <thead>\n",
       "    <tr style=\"text-align: right;\">\n",
       "      <th></th>\n",
       "      <th>order_status</th>\n",
       "      <th>order_purchase_timestamp</th>\n",
       "      <th>customer_unique_id</th>\n",
       "      <th>customer_zip_code_prefix</th>\n",
       "      <th>customer_city</th>\n",
       "      <th>customer_state</th>\n",
       "      <th>order_item_id</th>\n",
       "      <th>price</th>\n",
       "      <th>freight_value</th>\n",
       "    </tr>\n",
       "  </thead>\n",
       "  <tbody>\n",
       "    <tr>\n",
       "      <th>0</th>\n",
       "      <td>delivered</td>\n",
       "      <td>2017-10-02 10:56:33</td>\n",
       "      <td>7c396fd4830fd04220f754e42b4e5bff</td>\n",
       "      <td>3149</td>\n",
       "      <td>sao paulo</td>\n",
       "      <td>SP</td>\n",
       "      <td>1</td>\n",
       "      <td>29.99</td>\n",
       "      <td>8.72</td>\n",
       "    </tr>\n",
       "    <tr>\n",
       "      <th>1</th>\n",
       "      <td>delivered</td>\n",
       "      <td>2018-07-24 20:41:37</td>\n",
       "      <td>af07308b275d755c9edb36a90c618231</td>\n",
       "      <td>47813</td>\n",
       "      <td>barreiras</td>\n",
       "      <td>BA</td>\n",
       "      <td>1</td>\n",
       "      <td>118.70</td>\n",
       "      <td>22.76</td>\n",
       "    </tr>\n",
       "    <tr>\n",
       "      <th>2</th>\n",
       "      <td>delivered</td>\n",
       "      <td>2018-08-08 08:38:49</td>\n",
       "      <td>3a653a41f6f9fc3d2a113cf8398680e8</td>\n",
       "      <td>75265</td>\n",
       "      <td>vianopolis</td>\n",
       "      <td>GO</td>\n",
       "      <td>1</td>\n",
       "      <td>159.90</td>\n",
       "      <td>19.22</td>\n",
       "    </tr>\n",
       "    <tr>\n",
       "      <th>3</th>\n",
       "      <td>delivered</td>\n",
       "      <td>2017-11-18 19:28:06</td>\n",
       "      <td>7c142cf63193a1473d2e66489a9ae977</td>\n",
       "      <td>59296</td>\n",
       "      <td>sao goncalo do amarante</td>\n",
       "      <td>RN</td>\n",
       "      <td>1</td>\n",
       "      <td>45.00</td>\n",
       "      <td>27.20</td>\n",
       "    </tr>\n",
       "    <tr>\n",
       "      <th>4</th>\n",
       "      <td>delivered</td>\n",
       "      <td>2018-02-13 21:18:39</td>\n",
       "      <td>72632f0f9dd73dfee390c9b22eb56dd6</td>\n",
       "      <td>9195</td>\n",
       "      <td>santo andre</td>\n",
       "      <td>SP</td>\n",
       "      <td>1</td>\n",
       "      <td>19.90</td>\n",
       "      <td>8.72</td>\n",
       "    </tr>\n",
       "  </tbody>\n",
       "</table>\n",
       "</div>"
      ],
      "text/plain": [
       "  order_status order_purchase_timestamp                customer_unique_id  \\\n",
       "0    delivered      2017-10-02 10:56:33  7c396fd4830fd04220f754e42b4e5bff   \n",
       "1    delivered      2018-07-24 20:41:37  af07308b275d755c9edb36a90c618231   \n",
       "2    delivered      2018-08-08 08:38:49  3a653a41f6f9fc3d2a113cf8398680e8   \n",
       "3    delivered      2017-11-18 19:28:06  7c142cf63193a1473d2e66489a9ae977   \n",
       "4    delivered      2018-02-13 21:18:39  72632f0f9dd73dfee390c9b22eb56dd6   \n",
       "\n",
       "   customer_zip_code_prefix            customer_city customer_state  \\\n",
       "0                      3149                sao paulo             SP   \n",
       "1                     47813                barreiras             BA   \n",
       "2                     75265               vianopolis             GO   \n",
       "3                     59296  sao goncalo do amarante             RN   \n",
       "4                      9195              santo andre             SP   \n",
       "\n",
       "   order_item_id   price  freight_value  \n",
       "0              1   29.99           8.72  \n",
       "1              1  118.70          22.76  \n",
       "2              1  159.90          19.22  \n",
       "3              1   45.00          27.20  \n",
       "4              1   19.90           8.72  "
      ]
     },
     "execution_count": 20,
     "metadata": {},
     "output_type": "execute_result"
    }
   ],
   "source": [
    "# Excluir colunas não úteis\n",
    "columns_drop = ['order_id',\n",
    "                'customer_id',\n",
    "                'product_id',\n",
    "                'seller_id',\n",
    "                'order_approved_at',\n",
    "                'order_delivered_carrier_date',\n",
    "                'order_delivered_customer_date',\n",
    "                'order_estimated_delivery_date',\n",
    "                'shipping_limit_date'\n",
    "               ]\n",
    "\n",
    "df.drop(columns=columns_drop, inplace=True)\n",
    "df.head()"
   ]
  },
  {
   "cell_type": "code",
   "execution_count": 21,
   "id": "2db9225d-c07c-405a-ad7b-8c46292b660a",
   "metadata": {
    "scrolled": true
   },
   "outputs": [
    {
     "data": {
      "text/html": [
       "<div>\n",
       "<style scoped>\n",
       "    .dataframe tbody tr th:only-of-type {\n",
       "        vertical-align: middle;\n",
       "    }\n",
       "\n",
       "    .dataframe tbody tr th {\n",
       "        vertical-align: top;\n",
       "    }\n",
       "\n",
       "    .dataframe thead th {\n",
       "        text-align: right;\n",
       "    }\n",
       "</style>\n",
       "<table border=\"1\" class=\"dataframe\">\n",
       "  <thead>\n",
       "    <tr style=\"text-align: right;\">\n",
       "      <th></th>\n",
       "      <th>order_status</th>\n",
       "      <th>order_purchase_timestamp</th>\n",
       "      <th>customer_unique_id</th>\n",
       "      <th>customer_zip_code_prefix</th>\n",
       "      <th>customer_city</th>\n",
       "      <th>customer_state</th>\n",
       "      <th>order_item_id</th>\n",
       "      <th>price</th>\n",
       "      <th>freight_value</th>\n",
       "      <th>total_order_value</th>\n",
       "    </tr>\n",
       "  </thead>\n",
       "  <tbody>\n",
       "    <tr>\n",
       "      <th>0</th>\n",
       "      <td>delivered</td>\n",
       "      <td>2017-10-02 10:56:33</td>\n",
       "      <td>7c396fd4830fd04220f754e42b4e5bff</td>\n",
       "      <td>3149</td>\n",
       "      <td>sao paulo</td>\n",
       "      <td>SP</td>\n",
       "      <td>1</td>\n",
       "      <td>29.99</td>\n",
       "      <td>8.72</td>\n",
       "      <td>38.71</td>\n",
       "    </tr>\n",
       "    <tr>\n",
       "      <th>1</th>\n",
       "      <td>delivered</td>\n",
       "      <td>2018-07-24 20:41:37</td>\n",
       "      <td>af07308b275d755c9edb36a90c618231</td>\n",
       "      <td>47813</td>\n",
       "      <td>barreiras</td>\n",
       "      <td>BA</td>\n",
       "      <td>1</td>\n",
       "      <td>118.70</td>\n",
       "      <td>22.76</td>\n",
       "      <td>141.46</td>\n",
       "    </tr>\n",
       "    <tr>\n",
       "      <th>2</th>\n",
       "      <td>delivered</td>\n",
       "      <td>2018-08-08 08:38:49</td>\n",
       "      <td>3a653a41f6f9fc3d2a113cf8398680e8</td>\n",
       "      <td>75265</td>\n",
       "      <td>vianopolis</td>\n",
       "      <td>GO</td>\n",
       "      <td>1</td>\n",
       "      <td>159.90</td>\n",
       "      <td>19.22</td>\n",
       "      <td>179.12</td>\n",
       "    </tr>\n",
       "    <tr>\n",
       "      <th>3</th>\n",
       "      <td>delivered</td>\n",
       "      <td>2017-11-18 19:28:06</td>\n",
       "      <td>7c142cf63193a1473d2e66489a9ae977</td>\n",
       "      <td>59296</td>\n",
       "      <td>sao goncalo do amarante</td>\n",
       "      <td>RN</td>\n",
       "      <td>1</td>\n",
       "      <td>45.00</td>\n",
       "      <td>27.20</td>\n",
       "      <td>72.20</td>\n",
       "    </tr>\n",
       "    <tr>\n",
       "      <th>4</th>\n",
       "      <td>delivered</td>\n",
       "      <td>2018-02-13 21:18:39</td>\n",
       "      <td>72632f0f9dd73dfee390c9b22eb56dd6</td>\n",
       "      <td>9195</td>\n",
       "      <td>santo andre</td>\n",
       "      <td>SP</td>\n",
       "      <td>1</td>\n",
       "      <td>19.90</td>\n",
       "      <td>8.72</td>\n",
       "      <td>28.62</td>\n",
       "    </tr>\n",
       "  </tbody>\n",
       "</table>\n",
       "</div>"
      ],
      "text/plain": [
       "  order_status order_purchase_timestamp                customer_unique_id  \\\n",
       "0    delivered      2017-10-02 10:56:33  7c396fd4830fd04220f754e42b4e5bff   \n",
       "1    delivered      2018-07-24 20:41:37  af07308b275d755c9edb36a90c618231   \n",
       "2    delivered      2018-08-08 08:38:49  3a653a41f6f9fc3d2a113cf8398680e8   \n",
       "3    delivered      2017-11-18 19:28:06  7c142cf63193a1473d2e66489a9ae977   \n",
       "4    delivered      2018-02-13 21:18:39  72632f0f9dd73dfee390c9b22eb56dd6   \n",
       "\n",
       "   customer_zip_code_prefix            customer_city customer_state  \\\n",
       "0                      3149                sao paulo             SP   \n",
       "1                     47813                barreiras             BA   \n",
       "2                     75265               vianopolis             GO   \n",
       "3                     59296  sao goncalo do amarante             RN   \n",
       "4                      9195              santo andre             SP   \n",
       "\n",
       "   order_item_id   price  freight_value  total_order_value  \n",
       "0              1   29.99           8.72              38.71  \n",
       "1              1  118.70          22.76             141.46  \n",
       "2              1  159.90          19.22             179.12  \n",
       "3              1   45.00          27.20              72.20  \n",
       "4              1   19.90           8.72              28.62  "
      ]
     },
     "execution_count": 21,
     "metadata": {},
     "output_type": "execute_result"
    }
   ],
   "source": [
    "# Criar coluna com valor total do produto\n",
    "df['total_order_value'] = df['price'] + df['freight_value']\n",
    "df.head()"
   ]
  },
  {
   "cell_type": "code",
   "execution_count": 22,
   "id": "c7b477d3-5033-49bc-952e-d4fc52edbc1f",
   "metadata": {},
   "outputs": [
    {
     "name": "stdout",
     "output_type": "stream",
     "text": [
      "<class 'pandas.core.frame.DataFrame'>\n",
      "RangeIndex: 112650 entries, 0 to 112649\n",
      "Data columns (total 10 columns):\n",
      " #   Column                    Non-Null Count   Dtype  \n",
      "---  ------                    --------------   -----  \n",
      " 0   order_status              112650 non-null  object \n",
      " 1   order_purchase_timestamp  112650 non-null  object \n",
      " 2   customer_unique_id        112650 non-null  object \n",
      " 3   customer_zip_code_prefix  112650 non-null  object \n",
      " 4   customer_city             112650 non-null  object \n",
      " 5   customer_state            112650 non-null  object \n",
      " 6   order_item_id             112650 non-null  int64  \n",
      " 7   price                     112650 non-null  float64\n",
      " 8   freight_value             112650 non-null  float64\n",
      " 9   total_order_value         112650 non-null  float64\n",
      "dtypes: float64(3), int64(1), object(6)\n",
      "memory usage: 8.6+ MB\n"
     ]
    }
   ],
   "source": [
    "# Transformar prefixo de endereço do cliente em texto\n",
    "df['customer_zip_code_prefix'] = df['customer_zip_code_prefix'].astype('str')\n",
    "df.info()"
   ]
  },
  {
   "cell_type": "code",
   "execution_count": 23,
   "id": "c7d5b843-fa78-43de-a457-346eeea69fe1",
   "metadata": {},
   "outputs": [
    {
     "name": "stdout",
     "output_type": "stream",
     "text": [
      "<class 'pandas.core.frame.DataFrame'>\n",
      "RangeIndex: 112650 entries, 0 to 112649\n",
      "Data columns (total 10 columns):\n",
      " #   Column                    Non-Null Count   Dtype         \n",
      "---  ------                    --------------   -----         \n",
      " 0   order_status              112650 non-null  object        \n",
      " 1   order_purchase_timestamp  112650 non-null  datetime64[ns]\n",
      " 2   customer_unique_id        112650 non-null  object        \n",
      " 3   customer_zip_code_prefix  112650 non-null  object        \n",
      " 4   customer_city             112650 non-null  object        \n",
      " 5   customer_state            112650 non-null  object        \n",
      " 6   order_item_id             112650 non-null  int64         \n",
      " 7   price                     112650 non-null  float64       \n",
      " 8   freight_value             112650 non-null  float64       \n",
      " 9   total_order_value         112650 non-null  float64       \n",
      "dtypes: datetime64[ns](1), float64(3), int64(1), object(5)\n",
      "memory usage: 8.6+ MB\n"
     ]
    }
   ],
   "source": [
    "# Alterar tipo de coluna para data\n",
    "df['order_purchase_timestamp'] = pd.to_datetime(df['order_purchase_timestamp'])\n",
    "\n",
    "df.info()"
   ]
  },
  {
   "cell_type": "code",
   "execution_count": 24,
   "id": "a8720618-f828-4771-8114-4c92a6f29dfe",
   "metadata": {},
   "outputs": [
    {
     "data": {
      "text/plain": [
       "Timestamp('2018-09-03 09:06:57')"
      ]
     },
     "execution_count": 24,
     "metadata": {},
     "output_type": "execute_result"
    }
   ],
   "source": [
    "# Coletar data mais antiga no dataframe\n",
    "latest_date = df['order_purchase_timestamp'].max()\n",
    "latest_date"
   ]
  },
  {
   "cell_type": "code",
   "execution_count": 25,
   "id": "b08c93f0-57cc-40e6-8f55-89d74da4d7e4",
   "metadata": {},
   "outputs": [
    {
     "data": {
      "text/html": [
       "<div>\n",
       "<style scoped>\n",
       "    .dataframe tbody tr th:only-of-type {\n",
       "        vertical-align: middle;\n",
       "    }\n",
       "\n",
       "    .dataframe tbody tr th {\n",
       "        vertical-align: top;\n",
       "    }\n",
       "\n",
       "    .dataframe thead th {\n",
       "        text-align: right;\n",
       "    }\n",
       "</style>\n",
       "<table border=\"1\" class=\"dataframe\">\n",
       "  <thead>\n",
       "    <tr style=\"text-align: right;\">\n",
       "      <th></th>\n",
       "      <th>order_status</th>\n",
       "      <th>order_purchase_timestamp</th>\n",
       "      <th>customer_unique_id</th>\n",
       "      <th>customer_zip_code_prefix</th>\n",
       "      <th>customer_city</th>\n",
       "      <th>customer_state</th>\n",
       "      <th>order_item_id</th>\n",
       "      <th>price</th>\n",
       "      <th>freight_value</th>\n",
       "      <th>total_order_value</th>\n",
       "      <th>recent_date</th>\n",
       "    </tr>\n",
       "  </thead>\n",
       "  <tbody>\n",
       "    <tr>\n",
       "      <th>0</th>\n",
       "      <td>delivered</td>\n",
       "      <td>2017-10-02 10:56:33</td>\n",
       "      <td>7c396fd4830fd04220f754e42b4e5bff</td>\n",
       "      <td>3149</td>\n",
       "      <td>sao paulo</td>\n",
       "      <td>SP</td>\n",
       "      <td>1</td>\n",
       "      <td>29.99</td>\n",
       "      <td>8.72</td>\n",
       "      <td>38.71</td>\n",
       "      <td>335</td>\n",
       "    </tr>\n",
       "    <tr>\n",
       "      <th>1</th>\n",
       "      <td>delivered</td>\n",
       "      <td>2018-07-24 20:41:37</td>\n",
       "      <td>af07308b275d755c9edb36a90c618231</td>\n",
       "      <td>47813</td>\n",
       "      <td>barreiras</td>\n",
       "      <td>BA</td>\n",
       "      <td>1</td>\n",
       "      <td>118.70</td>\n",
       "      <td>22.76</td>\n",
       "      <td>141.46</td>\n",
       "      <td>40</td>\n",
       "    </tr>\n",
       "    <tr>\n",
       "      <th>2</th>\n",
       "      <td>delivered</td>\n",
       "      <td>2018-08-08 08:38:49</td>\n",
       "      <td>3a653a41f6f9fc3d2a113cf8398680e8</td>\n",
       "      <td>75265</td>\n",
       "      <td>vianopolis</td>\n",
       "      <td>GO</td>\n",
       "      <td>1</td>\n",
       "      <td>159.90</td>\n",
       "      <td>19.22</td>\n",
       "      <td>179.12</td>\n",
       "      <td>26</td>\n",
       "    </tr>\n",
       "    <tr>\n",
       "      <th>3</th>\n",
       "      <td>delivered</td>\n",
       "      <td>2017-11-18 19:28:06</td>\n",
       "      <td>7c142cf63193a1473d2e66489a9ae977</td>\n",
       "      <td>59296</td>\n",
       "      <td>sao goncalo do amarante</td>\n",
       "      <td>RN</td>\n",
       "      <td>1</td>\n",
       "      <td>45.00</td>\n",
       "      <td>27.20</td>\n",
       "      <td>72.20</td>\n",
       "      <td>288</td>\n",
       "    </tr>\n",
       "    <tr>\n",
       "      <th>4</th>\n",
       "      <td>delivered</td>\n",
       "      <td>2018-02-13 21:18:39</td>\n",
       "      <td>72632f0f9dd73dfee390c9b22eb56dd6</td>\n",
       "      <td>9195</td>\n",
       "      <td>santo andre</td>\n",
       "      <td>SP</td>\n",
       "      <td>1</td>\n",
       "      <td>19.90</td>\n",
       "      <td>8.72</td>\n",
       "      <td>28.62</td>\n",
       "      <td>201</td>\n",
       "    </tr>\n",
       "  </tbody>\n",
       "</table>\n",
       "</div>"
      ],
      "text/plain": [
       "  order_status order_purchase_timestamp                customer_unique_id  \\\n",
       "0    delivered      2017-10-02 10:56:33  7c396fd4830fd04220f754e42b4e5bff   \n",
       "1    delivered      2018-07-24 20:41:37  af07308b275d755c9edb36a90c618231   \n",
       "2    delivered      2018-08-08 08:38:49  3a653a41f6f9fc3d2a113cf8398680e8   \n",
       "3    delivered      2017-11-18 19:28:06  7c142cf63193a1473d2e66489a9ae977   \n",
       "4    delivered      2018-02-13 21:18:39  72632f0f9dd73dfee390c9b22eb56dd6   \n",
       "\n",
       "  customer_zip_code_prefix            customer_city customer_state  \\\n",
       "0                     3149                sao paulo             SP   \n",
       "1                    47813                barreiras             BA   \n",
       "2                    75265               vianopolis             GO   \n",
       "3                    59296  sao goncalo do amarante             RN   \n",
       "4                     9195              santo andre             SP   \n",
       "\n",
       "   order_item_id   price  freight_value  total_order_value  recent_date  \n",
       "0              1   29.99           8.72              38.71          335  \n",
       "1              1  118.70          22.76             141.46           40  \n",
       "2              1  159.90          19.22             179.12           26  \n",
       "3              1   45.00          27.20              72.20          288  \n",
       "4              1   19.90           8.72              28.62          201  "
      ]
     },
     "execution_count": 25,
     "metadata": {},
     "output_type": "execute_result"
    }
   ],
   "source": [
    "# Criar coluna de data mais recente \n",
    "df['recent_date'] = (latest_date - df.groupby('customer_unique_id')['order_purchase_timestamp'].transform('max')).dt.days\n",
    "\n",
    "df.head()"
   ]
  },
  {
   "cell_type": "code",
   "execution_count": 26,
   "id": "9e309faf-558a-4ce7-bb2d-68fd139c4f78",
   "metadata": {},
   "outputs": [
    {
     "data": {
      "text/html": [
       "<div>\n",
       "<style scoped>\n",
       "    .dataframe tbody tr th:only-of-type {\n",
       "        vertical-align: middle;\n",
       "    }\n",
       "\n",
       "    .dataframe tbody tr th {\n",
       "        vertical-align: top;\n",
       "    }\n",
       "\n",
       "    .dataframe thead th {\n",
       "        text-align: right;\n",
       "    }\n",
       "</style>\n",
       "<table border=\"1\" class=\"dataframe\">\n",
       "  <thead>\n",
       "    <tr style=\"text-align: right;\">\n",
       "      <th></th>\n",
       "      <th>order_status</th>\n",
       "      <th>order_purchase_timestamp</th>\n",
       "      <th>customer_unique_id</th>\n",
       "      <th>customer_zip_code_prefix</th>\n",
       "      <th>customer_city</th>\n",
       "      <th>customer_state</th>\n",
       "      <th>order_item_id</th>\n",
       "      <th>price</th>\n",
       "      <th>freight_value</th>\n",
       "      <th>total_order_value</th>\n",
       "      <th>recent_date</th>\n",
       "      <th>churn</th>\n",
       "    </tr>\n",
       "  </thead>\n",
       "  <tbody>\n",
       "    <tr>\n",
       "      <th>0</th>\n",
       "      <td>delivered</td>\n",
       "      <td>2017-10-02 10:56:33</td>\n",
       "      <td>7c396fd4830fd04220f754e42b4e5bff</td>\n",
       "      <td>3149</td>\n",
       "      <td>sao paulo</td>\n",
       "      <td>SP</td>\n",
       "      <td>1</td>\n",
       "      <td>29.99</td>\n",
       "      <td>8.72</td>\n",
       "      <td>38.71</td>\n",
       "      <td>335</td>\n",
       "      <td>0</td>\n",
       "    </tr>\n",
       "    <tr>\n",
       "      <th>1</th>\n",
       "      <td>delivered</td>\n",
       "      <td>2018-07-24 20:41:37</td>\n",
       "      <td>af07308b275d755c9edb36a90c618231</td>\n",
       "      <td>47813</td>\n",
       "      <td>barreiras</td>\n",
       "      <td>BA</td>\n",
       "      <td>1</td>\n",
       "      <td>118.70</td>\n",
       "      <td>22.76</td>\n",
       "      <td>141.46</td>\n",
       "      <td>40</td>\n",
       "      <td>0</td>\n",
       "    </tr>\n",
       "    <tr>\n",
       "      <th>2</th>\n",
       "      <td>delivered</td>\n",
       "      <td>2018-08-08 08:38:49</td>\n",
       "      <td>3a653a41f6f9fc3d2a113cf8398680e8</td>\n",
       "      <td>75265</td>\n",
       "      <td>vianopolis</td>\n",
       "      <td>GO</td>\n",
       "      <td>1</td>\n",
       "      <td>159.90</td>\n",
       "      <td>19.22</td>\n",
       "      <td>179.12</td>\n",
       "      <td>26</td>\n",
       "      <td>0</td>\n",
       "    </tr>\n",
       "    <tr>\n",
       "      <th>3</th>\n",
       "      <td>delivered</td>\n",
       "      <td>2017-11-18 19:28:06</td>\n",
       "      <td>7c142cf63193a1473d2e66489a9ae977</td>\n",
       "      <td>59296</td>\n",
       "      <td>sao goncalo do amarante</td>\n",
       "      <td>RN</td>\n",
       "      <td>1</td>\n",
       "      <td>45.00</td>\n",
       "      <td>27.20</td>\n",
       "      <td>72.20</td>\n",
       "      <td>288</td>\n",
       "      <td>0</td>\n",
       "    </tr>\n",
       "    <tr>\n",
       "      <th>4</th>\n",
       "      <td>delivered</td>\n",
       "      <td>2018-02-13 21:18:39</td>\n",
       "      <td>72632f0f9dd73dfee390c9b22eb56dd6</td>\n",
       "      <td>9195</td>\n",
       "      <td>santo andre</td>\n",
       "      <td>SP</td>\n",
       "      <td>1</td>\n",
       "      <td>19.90</td>\n",
       "      <td>8.72</td>\n",
       "      <td>28.62</td>\n",
       "      <td>201</td>\n",
       "      <td>0</td>\n",
       "    </tr>\n",
       "  </tbody>\n",
       "</table>\n",
       "</div>"
      ],
      "text/plain": [
       "  order_status order_purchase_timestamp                customer_unique_id  \\\n",
       "0    delivered      2017-10-02 10:56:33  7c396fd4830fd04220f754e42b4e5bff   \n",
       "1    delivered      2018-07-24 20:41:37  af07308b275d755c9edb36a90c618231   \n",
       "2    delivered      2018-08-08 08:38:49  3a653a41f6f9fc3d2a113cf8398680e8   \n",
       "3    delivered      2017-11-18 19:28:06  7c142cf63193a1473d2e66489a9ae977   \n",
       "4    delivered      2018-02-13 21:18:39  72632f0f9dd73dfee390c9b22eb56dd6   \n",
       "\n",
       "  customer_zip_code_prefix            customer_city customer_state  \\\n",
       "0                     3149                sao paulo             SP   \n",
       "1                    47813                barreiras             BA   \n",
       "2                    75265               vianopolis             GO   \n",
       "3                    59296  sao goncalo do amarante             RN   \n",
       "4                     9195              santo andre             SP   \n",
       "\n",
       "   order_item_id   price  freight_value  total_order_value  recent_date  churn  \n",
       "0              1   29.99           8.72              38.71          335      0  \n",
       "1              1  118.70          22.76             141.46           40      0  \n",
       "2              1  159.90          19.22             179.12           26      0  \n",
       "3              1   45.00          27.20              72.20          288      0  \n",
       "4              1   19.90           8.72              28.62          201      0  "
      ]
     },
     "execution_count": 26,
     "metadata": {},
     "output_type": "execute_result"
    }
   ],
   "source": [
    "# Definir periodo de CHURN\n",
    "churn_period = 365\n",
    "\n",
    "# Criar coluna de Churn\n",
    "# 1 = Cliente é CHURN\n",
    "# 0 = Cliente não é CHURN\n",
    "df['churn'] = np.where(df['recent_date'] > churn_period, 1, 0)\n",
    "\n",
    "df.head()"
   ]
  },
  {
   "cell_type": "code",
   "execution_count": 27,
   "id": "5f4726e3-e9f2-4d12-8107-15db8ca1fe65",
   "metadata": {},
   "outputs": [
    {
     "data": {
      "text/plain": [
       "churn\n",
       "0    87074\n",
       "1    25576\n",
       "Name: count, dtype: int64"
      ]
     },
     "execution_count": 27,
     "metadata": {},
     "output_type": "execute_result"
    }
   ],
   "source": [
    "# Visualizar valor de CHURN\n",
    "df['churn'].value_counts()"
   ]
  },
  {
   "cell_type": "code",
   "execution_count": 28,
   "id": "3d8d06f8-7d10-487e-99b4-ec5cdaac0729",
   "metadata": {},
   "outputs": [
    {
     "data": {
      "image/png": "[encoded data removed]",
      "text/plain": [
       "<Figure size 640x480 with 1 Axes>"
      ]
     },
     "metadata": {},
     "output_type": "display_data"
    }
   ],
   "source": [
    "# Visualizar boxplot CHURN x Valor de Frete \n",
    "fig = sns.boxplot(x='churn', y='freight_value', data=df)"
   ]
  },
  {
   "cell_type": "code",
   "execution_count": 29,
   "id": "0a8e1ab9-7560-4bba-9a74-f735cc35b3f0",
   "metadata": {},
   "outputs": [
    {
     "data": {
      "text/plain": [
       "<Axes: xlabel='freight_value', ylabel='Count'>"
      ]
     },
     "execution_count": 29,
     "metadata": {},
     "output_type": "execute_result"
    },
    {
     "data": {
      "image/png": "[encoded data removed]",
      "text/plain": [
       "<Figure size 1000x600 with 1 Axes>"
      ]
     },
     "metadata": {},
     "output_type": "display_data"
    }
   ],
   "source": [
    "# Visualizar Histograma CHURN positivo x Valor de Frete \n",
    "plt.figure(figsize=(10,6))\n",
    "\n",
    "sns.histplot(data=df[df['churn'] == 1],\n",
    "             x='freight_value',\n",
    "             color='red',\n",
    "             label='churn',\n",
    "             kde=True,\n",
    "             alpha=0.6)"
   ]
  },
  {
   "cell_type": "code",
   "execution_count": 30,
   "id": "99c42afe-d725-4847-8c57-6de79141a92e",
   "metadata": {},
   "outputs": [
    {
     "data": {
      "text/plain": [
       "<Axes: xlabel='freight_value', ylabel='Count'>"
      ]
     },
     "execution_count": 30,
     "metadata": {},
     "output_type": "execute_result"
    },
    {
     "data": {
      "image/png": "[encoded data removed]",
      "text/plain": [
       "<Figure size 1000x600 with 1 Axes>"
      ]
     },
     "metadata": {},
     "output_type": "display_data"
    }
   ],
   "source": [
    "# Visualizar Histograma CHURN negativo x Valor de Frete \n",
    "plt.figure(figsize=(10,6))\n",
    "\n",
    "sns.histplot(data=df[df['churn'] == 0],\n",
    "             x='freight_value',\n",
    "             color='blue',\n",
    "             label='churn',\n",
    "             kde=True,\n",
    "             alpha=0.6)"
   ]
  },
  {
   "cell_type": "code",
   "execution_count": 31,
   "id": "98b0cfa5-de34-492f-a33c-beccadfd1bba",
   "metadata": {},
   "outputs": [
    {
     "data": {
      "image/png": "[encoded data removed]",
      "text/plain": [
       "<Figure size 640x480 with 1 Axes>"
      ]
     },
     "metadata": {},
     "output_type": "display_data"
    }
   ],
   "source": [
    "# Visualizar boxplot CHURN x Valor do Produto \n",
    "fig = sns.boxplot(x='churn', y='price', data=df)"
   ]
  },
  {
   "cell_type": "markdown",
   "id": "653ad111-c68f-4f82-98b0-c1dfd660db42",
   "metadata": {},
   "source": [
    "## Modelagem"
   ]
  },
  {
   "cell_type": "code",
   "execution_count": 32,
   "id": "89c069a3-e168-498f-87b9-b56d3d337558",
   "metadata": {},
   "outputs": [
    {
     "data": {
      "text/plain": [
       "3.404519862370973"
      ]
     },
     "execution_count": 32,
     "metadata": {},
     "output_type": "execute_result"
    }
   ],
   "source": [
    "# Criar class weight \n",
    "# Penalizar classes minoritárias\n",
    "weights = df['churn'].value_counts(1)[0] / df['churn'].value_counts(1)[1]\n",
    "weights"
   ]
  },
  {
   "cell_type": "code",
   "execution_count": 33,
   "id": "2d4f5b65-0f0c-40d6-bfb0-04377c14e5d9",
   "metadata": {},
   "outputs": [],
   "source": [
    "# Criar x e y do modelo\n",
    "# Setar colunas não utilizadas para o X \n",
    "columns_drop_model = ['churn', \n",
    "                     'customer_unique_id',\n",
    "                      'order_purchase_timestamp',\n",
    "                      'recent_date'\n",
    "                     ]\n",
    "# Setar X\n",
    "x= df.drop(columns = columns_drop_model, axis = 1)\n",
    "\n",
    "# Setar y\n",
    "y= df['churn']"
   ]
  },
  {
   "cell_type": "code",
   "execution_count": 34,
   "id": "ca7f3ae6-b857-4430-8ecc-98b17dfcf432",
   "metadata": {},
   "outputs": [],
   "source": [
    "# Separar modelo: treino, teste\n",
    "X_train, X_test, y_train, y_test =  train_test_split(x, y, \n",
    "                                                     test_size = .3, \n",
    "                                                     random_state=42, \n",
    "                                                     stratify=y)"
   ]
  },
  {
   "cell_type": "code",
   "execution_count": 35,
   "id": "86144291-6829-4f72-a8ea-6527de58b2dd",
   "metadata": {},
   "outputs": [],
   "source": [
    "# Definir XGBoost\n",
    "xgbboost_model = XGBClassifier(n_estimators=1000,\n",
    "                               max_depth=8,\n",
    "                              learning_rate=1e-3,\n",
    "                              n_jobs=-1,\n",
    "                              random_state=0,\n",
    "                              scale_pos_weight = weights,\n",
    "                              eval_metric='error')"
   ]
  },
  {
   "cell_type": "code",
   "execution_count": 36,
   "id": "37ebd894-6d09-4179-8c57-0de4184a343d",
   "metadata": {},
   "outputs": [],
   "source": [
    "# Definir LightGBM\n",
    "lightggbm_model = LGBMClassifier(n_estimators=1000,\n",
    "                               max_depth=8,\n",
    "                                num_leaves = 2^8,\n",
    "                              learning_rate=1e-3,\n",
    "                              n_jobs=-1,\n",
    "                              random_state=0,\n",
    "                              is_unbalance=True)"
   ]
  },
  {
   "cell_type": "code",
   "execution_count": 37,
   "id": "0427eb70-a303-4912-956d-c544529d19de",
   "metadata": {},
   "outputs": [],
   "source": [
    "# Definir CatBoost\n",
    "catboost_model = CatBoostClassifier(n_estimators=1000,\n",
    "                               max_depth=8,\n",
    "                              learning_rate=1e-3,\n",
    "                              random_state=0,\n",
    "                              scale_pos_weight = weights,\n",
    "                              verbose=0)"
   ]
  },
  {
   "cell_type": "code",
   "execution_count": 38,
   "id": "33281d43-2356-4138-ba15-2f445607f0f0",
   "metadata": {},
   "outputs": [],
   "source": [
    "# Definir LogisticRegression\n",
    "logistic_reg_model = LogisticRegression(random_state=0,\n",
    "                                        class_weight='balanced',\n",
    "                                        n_jobs=1,\n",
    "                                        solver='lbfgs', \n",
    "                                        max_iter=1000)"
   ]
  },
  {
   "cell_type": "code",
   "execution_count": 39,
   "id": "29e83c76-e349-40aa-9724-620e5ec65576",
   "metadata": {},
   "outputs": [],
   "source": [
    "# Definir função para criar nova coluna\n",
    "def feature_engineering(x_train, x_test):\n",
    "    x_train['total_order_value'] = x_train['price'] + x_train['freight_value']\n",
    "    x_test['total_order_value'] = x_test['price'] + x_test['freight_value']\n",
    "    \n",
    "    return x_train, x_test"
   ]
  },
  {
   "cell_type": "code",
   "execution_count": 40,
   "id": "6b157713-bdd9-4aa8-8ac9-7527f985ddc8",
   "metadata": {},
   "outputs": [],
   "source": [
    "# Função de Validação Cruzada \n",
    "\n",
    "def cross_validation(X, y, model, k ,threshold):    \n",
    "    # Definir StratifiedKFold\n",
    "    folds = StratifiedKFold(n_splits=k,\n",
    "                           shuffle=True,\n",
    "                           random_state=42)\n",
    "    \n",
    "    # Definindo as Listas\n",
    "    precisions = list()\n",
    "    recalls = list()\n",
    "    accuracies = list()\n",
    "    measure_f1= list()\n",
    "    precisions_recall_auc= list()\n",
    "    rocs_auc= list()\n",
    "    \n",
    "    \n",
    "    for k, (train_index, test_index) in enumerate(folds.split(x,y)):\n",
    "    \n",
    "        # Mostrar fold atual\n",
    "        print(\"=-\"*6 + f\"Fold: {k+1}\" + \"-=\"*6)\n",
    "        \n",
    "        X_train_intern, y_train_intern = x.iloc[train_index, :], y.iloc[train_index]\n",
    "        X_test_intern, y_test_intern = x.iloc[test_index, :], y.iloc[test_index]\n",
    "\n",
    "        # Criando nova coluna\n",
    "        X_train_intern, X_test_intern = feature_engineering(X_train_intern, X_test_intern)\n",
    "        \n",
    "        # Definir variaveis categoricas\n",
    "        cat_cols = X_train_intern.select_dtypes(include=['object']).columns\n",
    "        num_cols = X_train_intern.select_dtypes(exclude=['object']).columns\n",
    "        \n",
    "        # Tratar variáveis categoricas \n",
    "        encoder = CatBoostEncoder()\n",
    "        cat_imputer = SimpleImputer(strategy='most_frequent')\n",
    "    \n",
    "        # Tratar variáveis numéricas\n",
    "        num_imputer = SimpleImputer(strategy='median')\n",
    "        \n",
    "        # Definir Pipelines\n",
    "        cat_pipeline = Pipeline([('encoder', encoder), ('imputer', cat_imputer)])\n",
    "        num_pipeline = Pipeline([('imputer', num_imputer)])    \n",
    "    \n",
    "        # Aplicar Pipeline nas variaveis de treino\n",
    "        X_train_intern[cat_cols] = cat_pipeline.fit_transform(X_train_intern[cat_cols], y_train_intern)\n",
    "        X_train_intern[num_cols] = num_pipeline.fit_transform(X_train_intern[num_cols])\n",
    "    \n",
    "    \n",
    "       # Aplicar Pipeline nas variaveis de teste\n",
    "        X_test_intern[cat_cols] = cat_pipeline.transform(X_test_intern[cat_cols])\n",
    "        X_test_intern[num_cols] = num_pipeline.transform(X_test_intern[num_cols])\n",
    "    \n",
    "    \n",
    "        # Treinar modelo XGBboost \n",
    "        model.fit(X_train_intern, y_train_intern)\n",
    "    \n",
    "        \n",
    "        y_pred_proba = model.predict_proba(X_test_intern)[:, 1]\n",
    "        y_pred = np.where(y_pred_proba > threshold, 1, 0)\n",
    "    \n",
    "        # Calcular curva\n",
    "        precision, recall, accuracy = precision_recall_curve(y_test_intern, y_pred)\n",
    "    \n",
    "        # Calcular Métricas\n",
    "        precision_recall_auc = auc(precision, recall)\n",
    "        roc_auc = roc_auc_score(y_test_intern, y_pred)\n",
    "        accuracy_scr = accuracy_score(y_test_intern, y_pred)\n",
    "        precision_scr = precision_score(y_test_intern, y_pred)\n",
    "        recall_scr = recall_score(y_test_intern, y_pred)\n",
    "        f1_scr = f1_score(y_test_intern, y_pred) \n",
    "    \n",
    "        # Armazenar score nas listas\n",
    "        precisions.append(precision_scr)\n",
    "        recalls.append(recall_scr) \n",
    "        accuracies.append(accuracy_scr)\n",
    "        measure_f1.append(f1_scr)\n",
    "        precisions_recall_auc.append(precision_recall_auc)\n",
    "        rocs_auc.append(roc_auc)\n",
    "    \n",
    "        print(f\"Precisão: {precision_scr:.4f}\")\n",
    "        print(f\"Revocação: {recall_scr:.4f}\")\n",
    "        print(f\"Acurácia: {accuracy_scr:.4f}\")\n",
    "        print(f\"Medida F1: {f1_scr:.4f}\")\n",
    "        print(f\"Precisão-Revocação AUC: {precision_recall_auc:.4f}\")\n",
    "        print(f\"Roc AUC: {roc_auc:.4f}\")\n",
    "    \n",
    "    # Transformar list em np.array\n",
    "    precissions = np.array(precisions)\n",
    "    recalls = np.array(recalls)\n",
    "    accuracies = np.array(accuracies)\n",
    "    measure_f1 = np.array(measure_f1)\n",
    "    precisions_recall_auc = np.array(precisions_recall_auc)\n",
    "    rocs_auc = np.array(rocs_auc)\n",
    "    \n",
    "    # Calcular médias\n",
    "    precission_mean = np.mean(precisions)\n",
    "    recall_mean = np.mean(recalls)\n",
    "    accuracie_mean = np.mean(accuracies)\n",
    "    measure_f1_mean = np.mean(measure_f1)\n",
    "    rocs_auc_mean = np.mean(rocs_auc)\n",
    "    precision_recall_auc_mean = np.mean(precisions_recall_auc)\n",
    "    \n",
    "    # Calcular desvios padrões\n",
    "    precission_std = np.std(precisions)\n",
    "    recall_std = np.std(recalls)\n",
    "    accuracie_std = np.std(accuracies)\n",
    "    measure_f1_std = np.std(measure_f1)\n",
    "    rocs_auc_std = np.std(rocs_auc)\n",
    "    precision_recall_auc_std = np.std(precisions_recall_auc)\n",
    "    \n",
    "    print()\n",
    "    print(\"=-\"*6 + \"Exibindo a média das métricas obtidas\" + \"-=\"*6)\n",
    "    print(f\"Média da Precisão: {precission_mean:.4f} +/- {precission_std:.4f}\")\n",
    "    print(f\"Média da Revocalção: {recall_mean:.4f} +/- {recall_std:.4f}\")\n",
    "    print(f\"Média da Acurácia: {accuracie_mean:.4f} +/- {accuracie_std:.4f}\")\n",
    "    print(f\"Média da Medida F1: {measure_f1_mean:.4f} +/- {measure_f1_std:.4f}\")\n",
    "    print(f\"Média da ROC AUC: {rocs_auc_mean:.4f} +/- {rocs_auc_std:.4f}\")\n",
    "    print(f\"Média da PR AUC: {precision_recall_auc_mean:.4f} +/- {precision_recall_auc_std:.4f}\")"
   ]
  },
  {
   "cell_type": "markdown",
   "id": "e5a61c9b-17fd-45e9-9a40-5af1e3d2cd00",
   "metadata": {},
   "source": [
    "## LightGBM"
   ]
  },
  {
   "cell_type": "code",
   "execution_count": 53,
   "id": "ed909d35-9851-45ad-9e43-013ef128ad94",
   "metadata": {},
   "outputs": [
    {
     "name": "stdout",
     "output_type": "stream",
     "text": [
      "=-=-=-=-=-=-Fold: 1-=-=-=-=-=-=\n",
      "[LightGBM] [Info] Number of positive: 20461, number of negative: 69659\n",
      "[LightGBM] [Info] Auto-choosing col-wise multi-threading, the overhead of testing was 0.002580 seconds.\n",
      "You can set `force_col_wise=true` to remove the overhead.\n",
      "[LightGBM] [Info] Total Bins 1785\n",
      "[LightGBM] [Info] Number of data points in the train set: 90120, number of used features: 8\n",
      "[LightGBM] [Info] [binary:BoostFromScore]: pavg=0.227042 -> initscore=-1.225091\n",
      "[LightGBM] [Info] Start training from score -1.225091\n",
      "Precisão: 0.7357\n",
      "Revocação: 0.0653\n",
      "Acurácia: 0.7825\n",
      "Medida F1: 0.1199\n",
      "Precisão-Revocação AUC: 0.2796\n",
      "Roc AUC: 0.5292\n",
      "=-=-=-=-=-=-Fold: 2-=-=-=-=-=-=\n",
      "[LightGBM] [Info] Number of positive: 20461, number of negative: 69659\n",
      "[LightGBM] [Info] Auto-choosing row-wise multi-threading, the overhead of testing was 0.000949 seconds.\n",
      "You can set `force_row_wise=true` to remove the overhead.\n",
      "And if memory is not enough, you can set `force_col_wise=true`.\n",
      "[LightGBM] [Info] Total Bins 1775\n",
      "[LightGBM] [Info] Number of data points in the train set: 90120, number of used features: 8\n",
      "[LightGBM] [Info] [binary:BoostFromScore]: pavg=0.227042 -> initscore=-1.225091\n",
      "[LightGBM] [Info] Start training from score -1.225091\n",
      "Precisão: 0.7243\n",
      "Revocação: 0.0688\n",
      "Acurácia: 0.7826\n",
      "Medida F1: 0.1257\n",
      "Precisão-Revocação AUC: 0.2752\n",
      "Roc AUC: 0.5306\n",
      "=-=-=-=-=-=-Fold: 3-=-=-=-=-=-=\n",
      "[LightGBM] [Info] Number of positive: 20461, number of negative: 69659\n",
      "[LightGBM] [Info] Auto-choosing row-wise multi-threading, the overhead of testing was 0.000951 seconds.\n",
      "You can set `force_row_wise=true` to remove the overhead.\n",
      "And if memory is not enough, you can set `force_col_wise=true`.\n",
      "[LightGBM] [Info] Total Bins 1781\n",
      "[LightGBM] [Info] Number of data points in the train set: 90120, number of used features: 8\n",
      "[LightGBM] [Info] [binary:BoostFromScore]: pavg=0.227042 -> initscore=-1.225091\n",
      "[LightGBM] [Info] Start training from score -1.225091\n",
      "Precisão: 0.7024\n",
      "Revocação: 0.0678\n",
      "Acurácia: 0.7818\n",
      "Medida F1: 0.1237\n",
      "Precisão-Revocação AUC: 0.2639\n",
      "Roc AUC: 0.5297\n",
      "=-=-=-=-=-=-Fold: 4-=-=-=-=-=-=\n",
      "[LightGBM] [Info] Number of positive: 20461, number of negative: 69659\n",
      "[LightGBM] [Info] Auto-choosing col-wise multi-threading, the overhead of testing was 0.002306 seconds.\n",
      "You can set `force_col_wise=true` to remove the overhead.\n",
      "[LightGBM] [Info] Total Bins 1783\n",
      "[LightGBM] [Info] Number of data points in the train set: 90120, number of used features: 8\n",
      "[LightGBM] [Info] [binary:BoostFromScore]: pavg=0.227042 -> initscore=-1.225091\n",
      "[LightGBM] [Info] Start training from score -1.225091\n",
      "Precisão: 0.7221\n",
      "Revocação: 0.0620\n",
      "Acurácia: 0.7816\n",
      "Medida F1: 0.1142\n",
      "Precisão-Revocação AUC: 0.2715\n",
      "Roc AUC: 0.5275\n",
      "=-=-=-=-=-=-Fold: 5-=-=-=-=-=-=\n",
      "[LightGBM] [Info] Number of positive: 20460, number of negative: 69660\n",
      "[LightGBM] [Info] Auto-choosing col-wise multi-threading, the overhead of testing was 0.002377 seconds.\n",
      "You can set `force_col_wise=true` to remove the overhead.\n",
      "[LightGBM] [Info] Total Bins 1781\n",
      "[LightGBM] [Info] Number of data points in the train set: 90120, number of used features: 8\n",
      "[LightGBM] [Info] [binary:BoostFromScore]: pavg=0.227031 -> initscore=-1.225155\n",
      "[LightGBM] [Info] Start training from score -1.225155\n",
      "Precisão: 0.7622\n",
      "Revocação: 0.0551\n",
      "Acurácia: 0.7815\n",
      "Medida F1: 0.1028\n",
      "Precisão-Revocação AUC: 0.2888\n",
      "Roc AUC: 0.5250\n",
      "\n",
      "=-=-=-=-=-=-Exibindo a média das métricas obtidas-=-=-=-=-=-=\n",
      "Média da Precisão: 0.7293 +/- 0.0196\n",
      "Média da Revocalção: 0.0638 +/- 0.0049\n",
      "Média da Acurácia: 0.7820 +/- 0.0005\n",
      "Média da Medida F1: 0.1173 +/- 0.0082\n",
      "Média da ROC AUC: 0.5284 +/- 0.0020\n",
      "Média da PR AUC: 0.2758 +/- 0.0083\n"
     ]
    }
   ],
   "source": [
    "cross_validation(x, y, lightggbm_model, k = 5, threshold = 0.5)"
   ]
  },
  {
   "cell_type": "markdown",
   "id": "93722225-638b-4040-9cb7-6b6846dd8c90",
   "metadata": {},
   "source": [
    "## CatBoost"
   ]
  },
  {
   "cell_type": "code",
   "execution_count": 41,
   "id": "6a64d54b-bc91-451b-ac2f-b7a74530f05a",
   "metadata": {},
   "outputs": [
    {
     "name": "stdout",
     "output_type": "stream",
     "text": [
      "=-=-=-=-=-=-Fold: 1-=-=-=-=-=-=\n",
      "Precisão: 0.3155\n",
      "Revocação: 0.6375\n",
      "Acurácia: 0.6037\n",
      "Medida F1: 0.4221\n",
      "Precisão-Revocação AUC: 0.2906\n",
      "Roc AUC: 0.6156\n",
      "=-=-=-=-=-=-Fold: 2-=-=-=-=-=-=\n",
      "Precisão: 0.3145\n",
      "Revocação: 0.6182\n",
      "Acurácia: 0.6074\n",
      "Medida F1: 0.4169\n",
      "Precisão-Revocação AUC: 0.2827\n",
      "Roc AUC: 0.6112\n",
      "=-=-=-=-=-=-Fold: 3-=-=-=-=-=-=\n",
      "Precisão: 0.3203\n",
      "Revocação: 0.6362\n",
      "Acurácia: 0.6110\n",
      "Medida F1: 0.4261\n",
      "Precisão-Revocação AUC: 0.2925\n",
      "Roc AUC: 0.6199\n",
      "=-=-=-=-=-=-Fold: 4-=-=-=-=-=-=\n",
      "Precisão: 0.3194\n",
      "Revocação: 0.6291\n",
      "Acurácia: 0.6114\n",
      "Medida F1: 0.4237\n",
      "Precisão-Revocação AUC: 0.2893\n",
      "Roc AUC: 0.6177\n",
      "=-=-=-=-=-=-Fold: 5-=-=-=-=-=-=\n",
      "Precisão: 0.3169\n",
      "Revocação: 0.6271\n",
      "Acurácia: 0.6084\n",
      "Medida F1: 0.4210\n",
      "Precisão-Revocação AUC: 0.2872\n",
      "Roc AUC: 0.6150\n",
      "\n",
      "=-=-=-=-=-=-Exibindo a média das métricas obtidas-=-=-=-=-=-=\n",
      "Média da Precisão: 0.3173 +/- 0.0022\n",
      "Média da Revocalção: 0.6296 +/- 0.0070\n",
      "Média da Acurácia: 0.6084 +/- 0.0028\n",
      "Média da Medida F1: 0.4220 +/- 0.0031\n",
      "Média da ROC AUC: 0.6159 +/- 0.0029\n",
      "Média da PR AUC: 0.2885 +/- 0.0034\n"
     ]
    }
   ],
   "source": [
    "cross_validation(x, y, catboost_model, k = 5, threshold = 0.5)"
   ]
  },
  {
   "cell_type": "markdown",
   "id": "f5dd6557-7d86-44f2-980c-3b8ba5fc8424",
   "metadata": {},
   "source": [
    "## Regressão Logística"
   ]
  },
  {
   "cell_type": "code",
   "execution_count": 42,
   "id": "a9853daf-dd0f-4661-8a29-6af7d227aa34",
   "metadata": {},
   "outputs": [
    {
     "name": "stdout",
     "output_type": "stream",
     "text": [
      "=-=-=-=-=-=-Fold: 1-=-=-=-=-=-=\n",
      "Precisão: 0.2699\n",
      "Revocação: 0.5357\n",
      "Acurácia: 0.5656\n",
      "Medida F1: 0.3589\n",
      "Precisão-Revocação AUC: 0.2285\n",
      "Roc AUC: 0.5550\n",
      "=-=-=-=-=-=-Fold: 2-=-=-=-=-=-=\n",
      "Precisão: 0.2658\n",
      "Revocação: 0.5283\n",
      "Acurácia: 0.5616\n",
      "Medida F1: 0.3536\n",
      "Precisão-Revocação AUC: 0.2235\n",
      "Roc AUC: 0.5498\n",
      "=-=-=-=-=-=-Fold: 3-=-=-=-=-=-=\n",
      "Precisão: 0.2722\n",
      "Revocação: 0.5324\n",
      "Acurácia: 0.5707\n",
      "Medida F1: 0.3602\n",
      "Precisão-Revocação AUC: 0.2283\n",
      "Roc AUC: 0.5572\n",
      "=-=-=-=-=-=-Fold: 4-=-=-=-=-=-=\n",
      "Precisão: 0.2688\n",
      "Revocação: 0.5439\n",
      "Acurácia: 0.5606\n",
      "Medida F1: 0.3598\n",
      "Precisão-Revocação AUC: 0.2311\n",
      "Roc AUC: 0.5547\n",
      "=-=-=-=-=-=-Fold: 5-=-=-=-=-=-=\n",
      "Precisão: 0.2705\n",
      "Revocação: 0.5233\n",
      "Acurácia: 0.5713\n",
      "Medida F1: 0.3566\n",
      "Precisão-Revocação AUC: 0.2239\n",
      "Roc AUC: 0.5543\n",
      "\n",
      "=-=-=-=-=-=-Exibindo a média das métricas obtidas-=-=-=-=-=-=\n",
      "Média da Precisão: 0.2694 +/- 0.0021\n",
      "Média da Revocalção: 0.5327 +/- 0.0070\n",
      "Média da Acurácia: 0.5660 +/- 0.0044\n",
      "Média da Medida F1: 0.3578 +/- 0.0024\n",
      "Média da ROC AUC: 0.5542 +/- 0.0024\n",
      "Média da PR AUC: 0.2271 +/- 0.0029\n"
     ]
    }
   ],
   "source": [
    "cross_validation(x, y, logistic_reg_model, k = 5, threshold = 0.5)"
   ]
  },
  {
   "cell_type": "markdown",
   "id": "411cf6d9-34b5-46ce-bee6-769be04cf3c0",
   "metadata": {},
   "source": [
    "## XGBoost"
   ]
  },
  {
   "cell_type": "code",
   "execution_count": 43,
   "id": "135a9425-8768-4429-9188-e60ecd69a341",
   "metadata": {},
   "outputs": [
    {
     "name": "stdout",
     "output_type": "stream",
     "text": [
      "=-=-=-=-=-=-Fold: 1-=-=-=-=-=-=\n",
      "Precisão: 0.3385\n",
      "Revocação: 0.7425\n",
      "Acurácia: 0.6121\n",
      "Medida F1: 0.4650\n",
      "Precisão-Revocação AUC: 0.3427\n",
      "Roc AUC: 0.6582\n",
      "=-=-=-=-=-=-Fold: 2-=-=-=-=-=-=\n",
      "Precisão: 0.3397\n",
      "Revocação: 0.7322\n",
      "Acurácia: 0.6162\n",
      "Medida F1: 0.4641\n",
      "Precisão-Revocação AUC: 0.3393\n",
      "Roc AUC: 0.6571\n",
      "=-=-=-=-=-=-Fold: 3-=-=-=-=-=-=\n",
      "Precisão: 0.3410\n",
      "Revocação: 0.7392\n",
      "Acurácia: 0.6164\n",
      "Medida F1: 0.4667\n",
      "Precisão-Revocação AUC: 0.3427\n",
      "Roc AUC: 0.6598\n",
      "=-=-=-=-=-=-Fold: 4-=-=-=-=-=-=\n",
      "Precisão: 0.3341\n",
      "Revocação: 0.7451\n",
      "Acurácia: 0.6049\n",
      "Medida F1: 0.4613\n",
      "Precisão-Revocação AUC: 0.3415\n",
      "Roc AUC: 0.6544\n",
      "=-=-=-=-=-=-Fold: 5-=-=-=-=-=-=\n",
      "Precisão: 0.3365\n",
      "Revocação: 0.7461\n",
      "Acurácia: 0.6083\n",
      "Medida F1: 0.4638\n",
      "Precisão-Revocação AUC: 0.3430\n",
      "Roc AUC: 0.6569\n",
      "\n",
      "=-=-=-=-=-=-Exibindo a média das métricas obtidas-=-=-=-=-=-=\n",
      "Média da Precisão: 0.3380 +/- 0.0024\n",
      "Média da Revocalção: 0.7410 +/- 0.0050\n",
      "Média da Acurácia: 0.6116 +/- 0.0045\n",
      "Média da Medida F1: 0.4642 +/- 0.0018\n",
      "Média da ROC AUC: 0.6573 +/- 0.0018\n",
      "Média da PR AUC: 0.3418 +/- 0.0014\n"
     ]
    }
   ],
   "source": [
    "cross_validation(x, y, xgbboost_model, k = 5, threshold = 0.5)"
   ]
  },
  {
   "cell_type": "markdown",
   "id": "14d4da3f-aad7-41a0-b0d0-4b8e791ad9ae",
   "metadata": {},
   "source": [
    "## Tunagem de Hiperparâmetros"
   ]
  },
  {
   "cell_type": "code",
   "execution_count": 42,
   "id": "cd0e2df8-5bb5-4d3e-8634-4e79e0d3a9e5",
   "metadata": {},
   "outputs": [
    {
     "name": "stderr",
     "output_type": "stream",
     "text": [
      "[I 2024-02-15 20:02:37,711] A new study created in memory with name: no-name-06d30fd1-1fff-4180-bc6a-2825354d8295\n",
      "[I 2024-02-15 20:07:36,757] Trial 0 finished with value: 0.6572825259412138 and parameters: {'learning_rate': 0.04001108412288363, 'max_depth': 15, 'subsample': 1.6, 'colsample_bytree': 2.0, 'min_child_weight': 17.11455667308699}. Best is trial 0 with value: 0.6572825259412138.\n",
      "[I 2024-02-15 20:12:57,104] Trial 1 finished with value: 0.6572825259412138 and parameters: {'learning_rate': 0.01637375680901873, 'max_depth': 19, 'subsample': 1.1, 'colsample_bytree': 1.2000000000000002, 'min_child_weight': 16.10268435699831}. Best is trial 0 with value: 0.6572825259412138.\n",
      "[I 2024-02-15 20:18:17,792] Trial 2 finished with value: 0.6572825259412138 and parameters: {'learning_rate': 0.04125210263051933, 'max_depth': 4, 'subsample': 1.7000000000000002, 'colsample_bytree': 1.1, 'min_child_weight': 6.168738428231536}. Best is trial 0 with value: 0.6572825259412138.\n",
      "[I 2024-02-15 20:23:29,286] Trial 3 finished with value: 0.6572825259412138 and parameters: {'learning_rate': 0.0025758944048461605, 'max_depth': 6, 'subsample': 0.7, 'colsample_bytree': 0.8, 'min_child_weight': 17.04649492451789}. Best is trial 0 with value: 0.6572825259412138.\n",
      "[I 2024-02-15 20:28:48,360] Trial 4 finished with value: 0.6572825259412138 and parameters: {'learning_rate': 0.001244667199648628, 'max_depth': 3, 'subsample': 1.3, 'colsample_bytree': 1.1, 'min_child_weight': 19.770533137592192}. Best is trial 0 with value: 0.6572825259412138.\n",
      "[I 2024-02-15 20:34:07,675] Trial 5 finished with value: 0.6572825259412138 and parameters: {'learning_rate': 0.010291191198413242, 'max_depth': 18, 'subsample': 1.0, 'colsample_bytree': 1.5, 'min_child_weight': 12.088864582229107}. Best is trial 0 with value: 0.6572825259412138.\n",
      "[I 2024-02-15 20:39:25,831] Trial 6 finished with value: 0.6572825259412138 and parameters: {'learning_rate': 0.0011139093436867452, 'max_depth': 8, 'subsample': 0.5, 'colsample_bytree': 1.7000000000000002, 'min_child_weight': 12.873540781520255}. Best is trial 0 with value: 0.6572825259412138.\n",
      "[I 2024-02-15 20:44:44,640] Trial 7 finished with value: 0.6572825259412138 and parameters: {'learning_rate': 0.0015383854278003335, 'max_depth': 18, 'subsample': 1.5, 'colsample_bytree': 1.8, 'min_child_weight': 9.891535171287934}. Best is trial 0 with value: 0.6572825259412138.\n",
      "[I 2024-02-15 20:51:32,693] Trial 8 finished with value: 0.6572825259412138 and parameters: {'learning_rate': 0.02227706218386735, 'max_depth': 13, 'subsample': 1.3, 'colsample_bytree': 1.6, 'min_child_weight': 13.545809813222927}. Best is trial 0 with value: 0.6572825259412138.\n",
      "[I 2024-02-15 20:57:06,027] Trial 9 finished with value: 0.6572825259412138 and parameters: {'learning_rate': 0.008929238664751489, 'max_depth': 13, 'subsample': 1.4, 'colsample_bytree': 1.8, 'min_child_weight': 5.423001671554306}. Best is trial 0 with value: 0.6572825259412138.\n"
     ]
    }
   ],
   "source": [
    "# Função de Tunagem de Hiperparâmetros \n",
    "\n",
    "def hyperparameter_tuning(trial, k = 5, threshold = 0.5):\n",
    "\n",
    "    learning_rate = trial.suggest_float('learning_rate', 1e-3, 1e-1, log=True)\n",
    "    max_depth = trial.suggest_int('max_depth', 1, 20)\n",
    "    subsample = trial.suggest_float('subsample', 0.5, 1, step = 0.1)\n",
    "    colsample = trial.suggest_float('colsample_bytree', 0.5, 1, step = 0.1)\n",
    "    min_child_weight = trial.suggest_float('min_child_weight', 1, 20)\n",
    "    \n",
    "    # Definir StratifiedKFold\n",
    "    folds = StratifiedKFold(n_splits=k,\n",
    "                           shuffle=True,\n",
    "                           random_state=42)\n",
    "    \n",
    "    # Definindo as Listas\n",
    "    precisions = list()\n",
    "    recalls = list()\n",
    "    accuracies = list()\n",
    "    measure_f1= list()\n",
    "    precisions_recall_auc= list()\n",
    "    rocs_auc= list()\n",
    "    \n",
    "    \n",
    "    for k, (train_index, test_index) in enumerate(folds.split(x,y)):\n",
    "        \n",
    "        X_train_intern, y_train_intern = x.iloc[train_index, :], y.iloc[train_index]\n",
    "        X_test_intern, y_test_intern = x.iloc[test_index, :], y.iloc[test_index]\n",
    "    \n",
    "        # Definir variaveis categoricas\n",
    "        cat_cols = X_train_intern.select_dtypes(include=['object']).columns\n",
    "        num_cols = X_train_intern.select_dtypes(exclude=['object']).columns\n",
    "        \n",
    "        # Tratar variáveis categoricas \n",
    "        encoder = CatBoostEncoder()\n",
    "        cat_imputer = SimpleImputer(strategy='most_frequent')\n",
    "    \n",
    "        # Tratar variáveis numéricas\n",
    "        num_imputer = SimpleImputer(strategy='median')\n",
    "        \n",
    "        # Definir Pipelines\n",
    "        cat_pipeline = Pipeline([('encoder', encoder), ('imputer', cat_imputer)])\n",
    "        num_pipeline = Pipeline([('imputer', num_imputer)])    \n",
    "    \n",
    "        # Aplicar Pipeline nas variaveis de treino\n",
    "        X_train_intern[cat_cols] = cat_pipeline.fit_transform(X_train_intern[cat_cols], y_train_intern)\n",
    "        X_train_intern[num_cols] = num_pipeline.fit_transform(X_train_intern[num_cols])\n",
    "    \n",
    "    \n",
    "       # Aplicar Pipeline nas variaveis de teste\n",
    "        X_test_intern[cat_cols] = cat_pipeline.transform(X_test_intern[cat_cols])\n",
    "        X_test_intern[num_cols] = num_pipeline.transform(X_test_intern[num_cols])\n",
    "    \n",
    "    \n",
    "        # Treinar modelo XGBboost \n",
    "        xgbboost_model.fit(X_train_intern, y_train_intern)\n",
    "    \n",
    "        \n",
    "        y_pred_proba = xgbboost_model.predict_proba(X_test_intern)[:, 1]\n",
    "        y_pred = np.where(y_pred_proba > threshold, 1, 0)\n",
    "    \n",
    "        # Calcular curva\n",
    "        precision, recall, accuracy = precision_recall_curve(y_test_intern, y_pred)\n",
    "    \n",
    "        # Calcular Métricas\n",
    "        precision_recall_auc = auc(precision, recall)\n",
    "        roc_auc = roc_auc_score(y_test_intern, y_pred)\n",
    "        accuracy_scr = accuracy_score(y_test_intern, y_pred)\n",
    "        precision_scr = precision_score(y_test_intern, y_pred)\n",
    "        recall_scr = recall_score(y_test_intern, y_pred)\n",
    "        f1_scr = f1_score(y_test_intern, y_pred) \n",
    "    \n",
    "        # Armazenar score nas listas\n",
    "        precisions.append(precision_scr)\n",
    "        recalls.append(recall_scr) \n",
    "        accuracies.append(accuracy_scr)\n",
    "        measure_f1.append(f1_scr)\n",
    "        precisions_recall_auc.append(precision_recall_auc)\n",
    "        rocs_auc.append(roc_auc)\n",
    "    \n",
    "    \n",
    "    # Transformar list em np.array\n",
    "    precissions = np.array(precisions)\n",
    "    recalls = np.array(recalls)\n",
    "    accuracies = np.array(accuracies)\n",
    "    measure_f1 = np.array(measure_f1)\n",
    "    precisions_recall_auc = np.array(precisions_recall_auc)\n",
    "    rocs_auc = np.array(rocs_auc)\n",
    "    \n",
    "    # Calcular médias\n",
    "    precission_mean = np.mean(precisions)\n",
    "    recall_mean = np.mean(recalls)\n",
    "    accuracie_mean = np.mean(accuracies)\n",
    "    measure_f1_mean = np.mean(measure_f1)\n",
    "    rocs_auc_mean = np.mean(rocs_auc)\n",
    "    precision_recall_auc_mean = np.mean(precisions_recall_auc)\n",
    "    \n",
    "    # Calcular desvios padrões\n",
    "    precission_std = np.std(precisions)\n",
    "    recall_std = np.std(recalls)\n",
    "    accuracie_std = np.std(accuracies)\n",
    "    measure_f1_std = np.std(measure_f1)\n",
    "    rocs_auc_std = np.std(rocs_auc)\n",
    "    precision_recall_auc_std = np.std(precisions_recall_auc)\n",
    "\n",
    "    return rocs_auc_mean\n",
    "\n",
    "study = opt.create_study(direction='maximize')\n",
    "study.optimize(hyperparameter_tuning, n_trials = 10)"
   ]
  },
  {
   "cell_type": "code",
   "execution_count": 54,
   "id": "9917fc70-793d-4feb-8220-1e44bec68b3c",
   "metadata": {},
   "outputs": [],
   "source": [
    "params = {'learning_rate': 0.008929238664751489, 'max_depth': 13, 'subsample': 0.4, 'colsample_bytree': 0.8, 'min_child_weight': 5.423001671554306}"
   ]
  },
  {
   "cell_type": "code",
   "execution_count": 55,
   "id": "7d5d7634-3a7f-4d4a-9403-1bc414ecc488",
   "metadata": {},
   "outputs": [],
   "source": [
    "xgbboost_model = XGBClassifier(n_estimators=1000,\n",
    "                              n_jobs=-1,\n",
    "                              random_state=0,\n",
    "                              scale_pos_weight = weights,\n",
    "                              eval_metric='error',\n",
    "                                       **params)"
   ]
  },
  {
   "cell_type": "code",
   "execution_count": 56,
   "id": "455d1eae-675b-4202-a911-f261bb46f6af",
   "metadata": {},
   "outputs": [
    {
     "name": "stdout",
     "output_type": "stream",
     "text": [
      "=-=-=-=-=-=-Fold: 1-=-=-=-=-=-=\n",
      "Precisão: 0.4263\n",
      "Revocação: 0.6854\n",
      "Acurácia: 0.7192\n",
      "Medida F1: 0.5257\n",
      "Precisão-Revocação AUC: 0.3646\n",
      "Roc AUC: 0.7073\n",
      "=-=-=-=-=-=-Fold: 2-=-=-=-=-=-=\n",
      "Precisão: 0.4331\n",
      "Revocação: 0.6616\n",
      "Acurácia: 0.7265\n",
      "Medida F1: 0.5235\n",
      "Precisão-Revocação AUC: 0.3587\n",
      "Roc AUC: 0.7036\n",
      "=-=-=-=-=-=-Fold: 3-=-=-=-=-=-=\n",
      "Precisão: 0.4321\n",
      "Revocação: 0.6854\n",
      "Acurácia: 0.7241\n",
      "Medida F1: 0.5300\n",
      "Precisão-Revocação AUC: 0.3674\n",
      "Roc AUC: 0.7104\n",
      "=-=-=-=-=-=-Fold: 4-=-=-=-=-=-=\n",
      "Precisão: 0.4317\n",
      "Revocação: 0.6837\n",
      "Acurácia: 0.7238\n",
      "Medida F1: 0.5292\n",
      "Precisão-Revocação AUC: 0.3666\n",
      "Roc AUC: 0.7097\n",
      "=-=-=-=-=-=-Fold: 5-=-=-=-=-=-=\n",
      "Precisão: 0.4495\n",
      "Revocação: 0.6489\n",
      "Acurácia: 0.7398\n",
      "Medida F1: 0.5311\n",
      "Precisão-Revocação AUC: 0.3620\n",
      "Roc AUC: 0.7077\n",
      "\n",
      "=-=-=-=-=-=-Exibindo a média das métricas obtidas-=-=-=-=-=-=\n",
      "Média da Precisão: 0.4345 +/- 0.0078\n",
      "Média da Revocalção: 0.6730 +/- 0.0150\n",
      "Média da Acurácia: 0.7267 +/- 0.0070\n",
      "Média da Medida F1: 0.5279 +/- 0.0029\n",
      "Média da ROC AUC: 0.7077 +/- 0.0024\n",
      "Média da PR AUC: 0.3639 +/- 0.0032\n"
     ]
    }
   ],
   "source": [
    "cross_validation(x, y, xgbboost_model, k = 5, threshold = 0.5)"
   ]
  }
 ],
 "metadata": {
  "kernelspec": {
   "display_name": "Python 3 (ipykernel)",
   "language": "python",
   "name": "python3"
  },
  "language_info": {
   "codemirror_mode": {
    "name": "ipython",
    "version": 3
   },
   "file_extension": ".py",
   "mimetype": "text/x-python",
   "name": "python",
   "nbconvert_exporter": "python",
   "pygments_lexer": "ipython3",
   "version": "3.11.7"
  }
 },
 "nbformat": 4,
 "nbformat_minor": 5
}
